{
 "cells": [
  {
   "cell_type": "markdown",
   "id": "ad344d3b",
   "metadata": {},
   "source": [
    "# Visual Data Analysis of Fraudulent Transactions\n"
   ]
  },
  {
   "cell_type": "code",
   "execution_count": 12,
   "id": "e8a0c990",
   "metadata": {},
   "outputs": [
    {
     "name": "stdout",
     "output_type": "stream",
     "text": [
      "Requirement already satisfied: sqlalchemy in /opt/anaconda3/lib/python3.8/site-packages (1.4.7)\n",
      "Requirement already satisfied: greenlet!=0.4.17 in /opt/anaconda3/lib/python3.8/site-packages (from sqlalchemy) (1.0.0)\n",
      "Requirement already satisfied: plotly in /opt/anaconda3/lib/python3.8/site-packages (5.18.0)\n",
      "Requirement already satisfied: packaging in /opt/anaconda3/lib/python3.8/site-packages (from plotly) (20.9)\n",
      "Requirement already satisfied: tenacity>=6.2.0 in /opt/anaconda3/lib/python3.8/site-packages (from plotly) (8.2.3)\n",
      "Requirement already satisfied: pyparsing>=2.0.2 in /opt/anaconda3/lib/python3.8/site-packages (from packaging->plotly) (2.4.7)\n",
      "Requirement already satisfied: pymysql in /opt/anaconda3/lib/python3.8/site-packages (1.1.0)\n",
      "Requirement already satisfied: hvplot in /opt/anaconda3/lib/python3.8/site-packages (0.9.1)\n",
      "Requirement already satisfied: pandas in /opt/anaconda3/lib/python3.8/site-packages (from hvplot) (1.2.4)\n",
      "Requirement already satisfied: panel>=0.11.0 in /opt/anaconda3/lib/python3.8/site-packages (from hvplot) (1.2.3)\n",
      "Requirement already satisfied: holoviews>=1.11.0 in /opt/anaconda3/lib/python3.8/site-packages (from hvplot) (1.17.1)\n",
      "Requirement already satisfied: colorcet>=2 in /opt/anaconda3/lib/python3.8/site-packages (from hvplot) (3.0.1)\n",
      "Requirement already satisfied: packaging in /opt/anaconda3/lib/python3.8/site-packages (from hvplot) (20.9)\n",
      "Requirement already satisfied: numpy>=1.15 in /opt/anaconda3/lib/python3.8/site-packages (from hvplot) (1.20.1)\n",
      "Requirement already satisfied: bokeh>=1.0.0 in /opt/anaconda3/lib/python3.8/site-packages (from hvplot) (3.1.1)\n",
      "Requirement already satisfied: param<3.0,>=1.12.0 in /opt/anaconda3/lib/python3.8/site-packages (from hvplot) (2.0.1)\n",
      "Requirement already satisfied: PyYAML>=3.10 in /opt/anaconda3/lib/python3.8/site-packages (from bokeh>=1.0.0->hvplot) (5.4.1)\n",
      "Requirement already satisfied: xyzservices>=2021.09.1 in /opt/anaconda3/lib/python3.8/site-packages (from bokeh>=1.0.0->hvplot) (2023.10.1)\n",
      "Requirement already satisfied: pillow>=7.1.0 in /opt/anaconda3/lib/python3.8/site-packages (from bokeh>=1.0.0->hvplot) (8.2.0)\n",
      "Requirement already satisfied: Jinja2>=2.9 in /opt/anaconda3/lib/python3.8/site-packages (from bokeh>=1.0.0->hvplot) (2.11.3)\n",
      "Requirement already satisfied: tornado>=5.1 in /opt/anaconda3/lib/python3.8/site-packages (from bokeh>=1.0.0->hvplot) (6.1)\n",
      "Requirement already satisfied: contourpy>=1 in /opt/anaconda3/lib/python3.8/site-packages (from bokeh>=1.0.0->hvplot) (1.1.1)\n",
      "Requirement already satisfied: pyct>=0.4.4 in /opt/anaconda3/lib/python3.8/site-packages (from colorcet>=2->hvplot) (0.5.0)\n",
      "Requirement already satisfied: pyviz-comms>=0.7.4 in /opt/anaconda3/lib/python3.8/site-packages (from holoviews>=1.11.0->hvplot) (3.0.0)\n",
      "Requirement already satisfied: MarkupSafe>=0.23 in /opt/anaconda3/lib/python3.8/site-packages (from Jinja2>=2.9->bokeh>=1.0.0->hvplot) (1.1.1)\n",
      "Requirement already satisfied: pyparsing>=2.0.2 in /opt/anaconda3/lib/python3.8/site-packages (from packaging->hvplot) (2.4.7)\n",
      "Requirement already satisfied: python-dateutil>=2.7.3 in /opt/anaconda3/lib/python3.8/site-packages (from pandas->hvplot) (2.8.1)\n",
      "Requirement already satisfied: pytz>=2017.3 in /opt/anaconda3/lib/python3.8/site-packages (from pandas->hvplot) (2021.1)\n",
      "Requirement already satisfied: requests in /opt/anaconda3/lib/python3.8/site-packages (from panel>=0.11.0->hvplot) (2.25.1)\n",
      "Requirement already satisfied: markdown-it-py in /opt/anaconda3/lib/python3.8/site-packages (from panel>=0.11.0->hvplot) (3.0.0)\n",
      "Requirement already satisfied: markdown in /opt/anaconda3/lib/python3.8/site-packages (from panel>=0.11.0->hvplot) (3.5.1)\n",
      "Requirement already satisfied: bleach in /opt/anaconda3/lib/python3.8/site-packages (from panel>=0.11.0->hvplot) (3.3.0)\n",
      "Requirement already satisfied: typing-extensions in /opt/anaconda3/lib/python3.8/site-packages (from panel>=0.11.0->hvplot) (3.7.4.3)\n",
      "Requirement already satisfied: linkify-it-py in /opt/anaconda3/lib/python3.8/site-packages (from panel>=0.11.0->hvplot) (2.0.2)\n",
      "Requirement already satisfied: tqdm>=4.48.0 in /opt/anaconda3/lib/python3.8/site-packages (from panel>=0.11.0->hvplot) (4.59.0)\n",
      "Requirement already satisfied: mdit-py-plugins in /opt/anaconda3/lib/python3.8/site-packages (from panel>=0.11.0->hvplot) (0.4.0)\n",
      "Requirement already satisfied: six>=1.5 in /opt/anaconda3/lib/python3.8/site-packages (from python-dateutil>=2.7.3->pandas->hvplot) (1.15.0)\n",
      "Requirement already satisfied: webencodings in /opt/anaconda3/lib/python3.8/site-packages (from bleach->panel>=0.11.0->hvplot) (0.5.1)\n",
      "Requirement already satisfied: uc-micro-py in /opt/anaconda3/lib/python3.8/site-packages (from linkify-it-py->panel>=0.11.0->hvplot) (1.0.2)\n",
      "Requirement already satisfied: importlib-metadata>=4.4 in /opt/anaconda3/lib/python3.8/site-packages (from markdown->panel>=0.11.0->hvplot) (7.0.1)\n",
      "Requirement already satisfied: zipp>=0.5 in /opt/anaconda3/lib/python3.8/site-packages (from importlib-metadata>=4.4->markdown->panel>=0.11.0->hvplot) (3.4.1)\n",
      "Requirement already satisfied: mdurl~=0.1 in /opt/anaconda3/lib/python3.8/site-packages (from markdown-it-py->panel>=0.11.0->hvplot) (0.1.2)\n",
      "Requirement already satisfied: urllib3<1.27,>=1.21.1 in /opt/anaconda3/lib/python3.8/site-packages (from requests->panel>=0.11.0->hvplot) (1.26.4)\n",
      "Requirement already satisfied: idna<3,>=2.5 in /opt/anaconda3/lib/python3.8/site-packages (from requests->panel>=0.11.0->hvplot) (2.10)\n",
      "Requirement already satisfied: certifi>=2017.4.17 in /opt/anaconda3/lib/python3.8/site-packages (from requests->panel>=0.11.0->hvplot) (2020.12.5)\n",
      "Requirement already satisfied: chardet<5,>=3.0.2 in /opt/anaconda3/lib/python3.8/site-packages (from requests->panel>=0.11.0->hvplot) (4.0.0)\n"
     ]
    }
   ],
   "source": [
    "# initial imports\n",
    "!pip install sqlalchemy\n",
    "!pip install plotly\n",
    "!pip install pymysql\n",
    "!pip install hvplot\n",
    "\n",
    "\n",
    "import pandas as pd\n",
    "import calendar\n",
    "import plotly.express as px\n",
    "import hvplot.pandas\n",
    "from sqlalchemy import create_engine\n",
    "import datetime\n"
   ]
  },
  {
   "cell_type": "code",
   "execution_count": 13,
   "id": "daf3b99a",
   "metadata": {},
   "outputs": [],
   "source": [
    "#create a connection to the database\n",
    "\n",
    "username = 'root'\n",
    "password = 'Ahasan321!'\n",
    "hostname = 'localhost'\n",
    "database = 'newschema'\n",
    "\n",
    "# MySQL connection string\n",
    "engine = create_engine(f\"mysql+pymysql://{username}:{password}@{hostname}/{database}\")\n"
   ]
  },
  {
   "cell_type": "code",
   "execution_count": 14,
   "id": "8218fa31",
   "metadata": {},
   "outputs": [],
   "source": [
    "# loading data from the database\n",
    "\n",
    "def execute_query(query):\n",
    "\n",
    "    transaction_df = pd.read_sql(sql=query, con=engine, index_col='DATE', parse_dates='DATE')\n",
    "\n",
    "    return transaction_df\n",
    "\n",
    "def fraud_transactions(df):\n",
    "    start_time = datetime.time(7,0,0)\n",
    "    end_time = datetime.time(9,0,0)\n",
    "    return df.between_time(start_time, end_time).sort_values('AMOUNT', ascending=False)\n",
    "    "
   ]
  },
  {
   "cell_type": "code",
   "execution_count": 15,
   "id": "06e92640",
   "metadata": {},
   "outputs": [
    {
     "data": {
      "text/html": [
       "<div>\n",
       "<style scoped>\n",
       "    .dataframe tbody tr th:only-of-type {\n",
       "        vertical-align: middle;\n",
       "    }\n",
       "\n",
       "    .dataframe tbody tr th {\n",
       "        vertical-align: top;\n",
       "    }\n",
       "\n",
       "    .dataframe thead th {\n",
       "        text-align: right;\n",
       "    }\n",
       "</style>\n",
       "<table border=\"1\" class=\"dataframe\">\n",
       "  <thead>\n",
       "    <tr style=\"text-align: right;\">\n",
       "      <th></th>\n",
       "      <th>ID</th>\n",
       "      <th>Name</th>\n",
       "      <th>Card</th>\n",
       "      <th>AMOUNT</th>\n",
       "      <th>category</th>\n",
       "    </tr>\n",
       "    <tr>\n",
       "      <th>DATE</th>\n",
       "      <th></th>\n",
       "      <th></th>\n",
       "      <th></th>\n",
       "      <th></th>\n",
       "      <th></th>\n",
       "    </tr>\n",
       "  </thead>\n",
       "  <tbody>\n",
       "    <tr>\n",
       "      <th>2018-12-07 07:22:03</th>\n",
       "      <td>1</td>\n",
       "      <td>Robert Johnson</td>\n",
       "      <td>4761049645711555811</td>\n",
       "      <td>1894.00</td>\n",
       "      <td>bar</td>\n",
       "    </tr>\n",
       "    <tr>\n",
       "      <th>2018-03-05 08:26:08</th>\n",
       "      <td>16</td>\n",
       "      <td>Crystal Clark</td>\n",
       "      <td>5570600642865857</td>\n",
       "      <td>1617.00</td>\n",
       "      <td>bar</td>\n",
       "    </tr>\n",
       "    <tr>\n",
       "      <th>2018-03-06 07:18:09</th>\n",
       "      <td>25</td>\n",
       "      <td>Nancy Contreras</td>\n",
       "      <td>4319653513507</td>\n",
       "      <td>1334.00</td>\n",
       "      <td>bar</td>\n",
       "    </tr>\n",
       "    <tr>\n",
       "      <th>2018-01-22 08:07:03</th>\n",
       "      <td>16</td>\n",
       "      <td>Crystal Clark</td>\n",
       "      <td>5570600642865857</td>\n",
       "      <td>1131.00</td>\n",
       "      <td>restaurant</td>\n",
       "    </tr>\n",
       "    <tr>\n",
       "      <th>2018-09-26 08:48:40</th>\n",
       "      <td>1</td>\n",
       "      <td>Robert Johnson</td>\n",
       "      <td>4761049645711555811</td>\n",
       "      <td>1060.00</td>\n",
       "      <td>restaurant</td>\n",
       "    </tr>\n",
       "    <tr>\n",
       "      <th>...</th>\n",
       "      <td>...</td>\n",
       "      <td>...</td>\n",
       "      <td>...</td>\n",
       "      <td>...</td>\n",
       "      <td>...</td>\n",
       "    </tr>\n",
       "    <tr>\n",
       "      <th>2018-04-08 07:06:20</th>\n",
       "      <td>13</td>\n",
       "      <td>John Martin</td>\n",
       "      <td>3561954487988605</td>\n",
       "      <td>11.73</td>\n",
       "      <td>food truck</td>\n",
       "    </tr>\n",
       "    <tr>\n",
       "      <th>2018-09-15 08:33:49</th>\n",
       "      <td>16</td>\n",
       "      <td>Crystal Clark</td>\n",
       "      <td>5500708021555307</td>\n",
       "      <td>11.72</td>\n",
       "      <td>coffee shop</td>\n",
       "    </tr>\n",
       "    <tr>\n",
       "      <th>2018-12-18 07:45:28</th>\n",
       "      <td>21</td>\n",
       "      <td>Dana Washington</td>\n",
       "      <td>4279104135293225293</td>\n",
       "      <td>11.70</td>\n",
       "      <td>food truck</td>\n",
       "    </tr>\n",
       "    <tr>\n",
       "      <th>2018-02-25 07:37:03</th>\n",
       "      <td>13</td>\n",
       "      <td>John Martin</td>\n",
       "      <td>5135837688671496</td>\n",
       "      <td>11.68</td>\n",
       "      <td>pub</td>\n",
       "    </tr>\n",
       "    <tr>\n",
       "      <th>2018-05-04 08:21:59</th>\n",
       "      <td>11</td>\n",
       "      <td>Brandon Pineda</td>\n",
       "      <td>4027907156459098</td>\n",
       "      <td>11.65</td>\n",
       "      <td>pub</td>\n",
       "    </tr>\n",
       "  </tbody>\n",
       "</table>\n",
       "<p>100 rows × 5 columns</p>\n",
       "</div>"
      ],
      "text/plain": [
       "                     ID             Name                 Card   AMOUNT  \\\n",
       "DATE                                                                     \n",
       "2018-12-07 07:22:03   1   Robert Johnson  4761049645711555811  1894.00   \n",
       "2018-03-05 08:26:08  16    Crystal Clark     5570600642865857  1617.00   \n",
       "2018-03-06 07:18:09  25  Nancy Contreras        4319653513507  1334.00   \n",
       "2018-01-22 08:07:03  16    Crystal Clark     5570600642865857  1131.00   \n",
       "2018-09-26 08:48:40   1   Robert Johnson  4761049645711555811  1060.00   \n",
       "...                  ..              ...                  ...      ...   \n",
       "2018-04-08 07:06:20  13      John Martin     3561954487988605    11.73   \n",
       "2018-09-15 08:33:49  16    Crystal Clark     5500708021555307    11.72   \n",
       "2018-12-18 07:45:28  21  Dana Washington  4279104135293225293    11.70   \n",
       "2018-02-25 07:37:03  13      John Martin     5135837688671496    11.68   \n",
       "2018-05-04 08:21:59  11   Brandon Pineda     4027907156459098    11.65   \n",
       "\n",
       "                        category  \n",
       "DATE                              \n",
       "2018-12-07 07:22:03          bar  \n",
       "2018-03-05 08:26:08          bar  \n",
       "2018-03-06 07:18:09          bar  \n",
       "2018-01-22 08:07:03   restaurant  \n",
       "2018-09-26 08:48:40   restaurant  \n",
       "...                          ...  \n",
       "2018-04-08 07:06:20   food truck  \n",
       "2018-09-15 08:33:49  coffee shop  \n",
       "2018-12-18 07:45:28   food truck  \n",
       "2018-02-25 07:37:03          pub  \n",
       "2018-05-04 08:21:59          pub  \n",
       "\n",
       "[100 rows x 5 columns]"
      ]
     },
     "execution_count": 15,
     "metadata": {},
     "output_type": "execute_result"
    }
   ],
   "source": [
    "# loading data for card holder 2 and 18 from the database\n",
    "query = f\"\"\"\n",
    "SELECT a.ID, a.Name, b.Card, c.DATE, c.AMOUNT, e.NAME as 'category'\n",
    "FROM CardHolder a, CreditCard b, Transaction c, Merchant d, MerchantCategory e\n",
    "WHERE a.ID = b.IDCardHolder AND b.Card = c.CARD AND c.IDMerchant = d.ID AND d.IDMerchantCategory = e.ID\n",
    "\"\"\"\n",
    "transaction_df = execute_query(query)\n",
    "\n",
    "suspect_df = fraud_transactions(transaction_df).head(100)\n",
    "suspect_df"
   ]
  },
  {
   "cell_type": "code",
   "execution_count": 16,
   "id": "7459dbad",
   "metadata": {},
   "outputs": [
    {
     "data": {
      "application/vnd.plotly.v1+json": {
       "config": {
        "plotlyServerURL": "https://plot.ly"
       },
       "data": [
        {
         "customdata": [
          [
           "Robert Johnson",
           "bar"
          ],
          [
           "Crystal Clark",
           "bar"
          ],
          [
           "Nancy Contreras",
           "bar"
          ],
          [
           "Robert Johnson",
           "bar"
          ],
          [
           "Megan Price",
           "bar"
          ],
          [
           "Kevin Spencer",
           "bar"
          ],
          [
           "Sara Cooper",
           "bar"
          ],
          [
           "Danielle Green",
           "bar"
          ],
          [
           "Nancy Contreras",
           "bar"
          ],
          [
           "Kevin Spencer",
           "bar"
          ],
          [
           "Crystal Clark",
           "bar"
          ],
          [
           "Stephanie Dalton",
           "bar"
          ],
          [
           "Kyle Tucker",
           "bar"
          ],
          [
           "Megan Price",
           "bar"
          ],
          [
           "Stephanie Dalton",
           "bar"
          ],
          [
           "Danielle Green",
           "bar"
          ]
         ],
         "hovertemplate": "category=%{customdata[1]}<br>DATE=%{x}<br>AMOUNT=%{marker.size}<br>Name=%{customdata[0]}<extra></extra>",
         "legendgroup": "bar",
         "marker": {
          "color": "#636efa",
          "size": [
           1894,
           1617,
           1334,
           1017,
           17.78,
           17.47,
           17.03,
           16.64,
           16.58,
           15.98,
           15.94,
           15.04,
           12.98,
           11.96,
           11.93,
           11.86
          ],
          "sizemode": "area",
          "sizeref": 4.735,
          "symbol": "circle"
         },
         "mode": "markers",
         "name": "bar",
         "orientation": "v",
         "showlegend": true,
         "type": "scatter",
         "x": [
          "2018-12-07T07:22:03",
          "2018-03-05T08:26:08",
          "2018-03-06T07:18:09",
          "2018-09-06T08:28:55",
          "2018-04-15T08:32:38",
          "2018-06-02T07:44:39",
          "2018-06-08T07:31:57",
          "2018-05-03T07:20:28",
          "2018-03-05T07:34:15",
          "2018-09-06T08:35:35",
          "2018-06-26T08:00:22",
          "2018-04-20T08:27:59",
          "2018-05-01T07:40:00",
          "2018-01-20T08:35:34",
          "2018-07-31T07:44:59",
          "2018-08-30T08:46:49"
         ],
         "xaxis": "x",
         "y": [
          1894,
          1617,
          1334,
          1017,
          17.78,
          17.47,
          17.03,
          16.64,
          16.58,
          15.98,
          15.94,
          15.04,
          12.98,
          11.96,
          11.93,
          11.86
         ],
         "yaxis": "y"
        },
        {
         "customdata": [
          [
           "Crystal Clark",
           "restaurant"
          ],
          [
           "Robert Johnson",
           "restaurant"
          ],
          [
           "Brandon Pineda",
           "restaurant"
          ],
          [
           "Kyle Tucker",
           "restaurant"
          ],
          [
           "Kevin Spencer",
           "restaurant"
          ],
          [
           "Michael Floyd",
           "restaurant"
          ],
          [
           "Malik Carlson",
           "restaurant"
          ],
          [
           "Shane Shaffer",
           "restaurant"
          ],
          [
           "John Martin",
           "restaurant"
          ],
          [
           "Brandon Pineda",
           "restaurant"
          ],
          [
           "Dana Washington",
           "restaurant"
          ],
          [
           "Beth Hernandez",
           "restaurant"
          ],
          [
           "Malik Carlson",
           "restaurant"
          ],
          [
           "Nancy Contreras",
           "restaurant"
          ],
          [
           "Mark Lewis",
           "restaurant"
          ],
          [
           "Kyle Tucker",
           "restaurant"
          ],
          [
           "Robert Johnson",
           "restaurant"
          ],
          [
           "Malik Carlson",
           "restaurant"
          ],
          [
           "Stephanie Dalton",
           "restaurant"
          ],
          [
           "Mark Lewis",
           "restaurant"
          ]
         ],
         "hovertemplate": "category=%{customdata[1]}<br>DATE=%{x}<br>AMOUNT=%{marker.size}<br>Name=%{customdata[0]}<extra></extra>",
         "legendgroup": "restaurant",
         "marker": {
          "color": "#EF553B",
          "size": [
           1131,
           1060,
           19.33,
           19.02,
           18.72,
           18.56,
           18.54,
           18.52,
           18.35,
           17.85,
           17.56,
           17.48,
           16.16,
           15.98,
           15.94,
           15.15,
           14.92,
           12.25,
           11.91,
           11.87
          ],
          "sizemode": "area",
          "sizeref": 4.735,
          "symbol": "circle"
         },
         "mode": "markers",
         "name": "restaurant",
         "orientation": "v",
         "showlegend": true,
         "type": "scatter",
         "x": [
          "2018-01-22T08:07:03",
          "2018-09-26T08:48:40",
          "2018-06-01T08:56:59",
          "2018-09-23T07:30:56",
          "2018-01-06T08:42:50",
          "2018-06-23T07:12:06",
          "2018-08-14T08:38:49",
          "2018-02-27T08:27:00",
          "2018-01-06T07:00:32",
          "2018-02-05T08:37:24",
          "2018-06-13T08:46:29",
          "2018-05-20T08:36:46",
          "2018-06-10T07:55:27",
          "2018-06-19T07:16:54",
          "2018-10-30T07:08:04",
          "2018-01-27T08:36:58",
          "2018-12-11T07:42:50",
          "2018-12-29T08:11:55",
          "2018-01-17T07:56:09",
          "2018-12-31T08:22:17"
         ],
         "xaxis": "x",
         "y": [
          1131,
          1060,
          19.33,
          19.02,
          18.72,
          18.56,
          18.54,
          18.52,
          18.35,
          17.85,
          17.56,
          17.48,
          16.16,
          15.98,
          15.94,
          15.15,
          14.92,
          12.25,
          11.91,
          11.87
         ],
         "yaxis": "y"
        },
        {
         "customdata": [
          [
           "Laurie Gibbs",
           "coffee shop"
          ],
          [
           "Nancy Contreras",
           "coffee shop"
          ],
          [
           "Matthew Gutierrez",
           "coffee shop"
          ],
          [
           "Matthew Gutierrez",
           "coffee shop"
          ],
          [
           "Michael Floyd",
           "coffee shop"
          ],
          [
           "Kevin Spencer",
           "coffee shop"
          ],
          [
           "Matthew Gutierrez",
           "coffee shop"
          ],
          [
           "Elizabeth Sawyer",
           "coffee shop"
          ],
          [
           "Crystal Clark",
           "coffee shop"
          ],
          [
           "Matthew Gutierrez",
           "coffee shop"
          ],
          [
           "Shane Shaffer",
           "coffee shop"
          ],
          [
           "John Martin",
           "coffee shop"
          ],
          [
           "Sean Taylor",
           "coffee shop"
          ],
          [
           "John Martin",
           "coffee shop"
          ],
          [
           "Shane Shaffer",
           "coffee shop"
          ],
          [
           "Mark Lewis",
           "coffee shop"
          ],
          [
           "Sara Cooper",
           "coffee shop"
          ],
          [
           "Brandon Pineda",
           "coffee shop"
          ],
          [
           "Sean Taylor",
           "coffee shop"
          ],
          [
           "Nancy Contreras",
           "coffee shop"
          ],
          [
           "Crystal Clark",
           "coffee shop"
          ]
         ],
         "hovertemplate": "category=%{customdata[1]}<br>DATE=%{x}<br>AMOUNT=%{marker.size}<br>Name=%{customdata[0]}<extra></extra>",
         "legendgroup": "coffee shop",
         "marker": {
          "color": "#00cc96",
          "size": [
           1009,
           100,
           20.71,
           18.93,
           18.48,
           18.14,
           17.54,
           17.36,
           16.85,
           16.36,
           15.96,
           15.05,
           14.42,
           13.83,
           13.53,
           12.98,
           12.96,
           12.52,
           12.32,
           11.88,
           11.72
          ],
          "sizemode": "area",
          "sizeref": 4.735,
          "symbol": "circle"
         },
         "mode": "markers",
         "name": "coffee shop",
         "orientation": "v",
         "showlegend": true,
         "type": "scatter",
         "x": [
          "2018-03-26T07:41:59",
          "2018-04-01T07:17:21",
          "2018-08-28T07:17:14",
          "2018-07-04T08:51:29",
          "2018-09-12T07:33:19",
          "2018-02-25T07:55:21",
          "2018-01-18T08:18:50",
          "2018-01-16T08:02:04",
          "2018-10-29T07:18:34",
          "2018-03-28T07:36:02",
          "2018-05-28T07:57:39",
          "2018-06-10T08:20:40",
          "2018-08-02T07:13:49",
          "2018-10-22T07:41:56",
          "2018-03-10T08:52:09",
          "2018-10-27T08:04:44",
          "2018-03-30T08:12:28",
          "2018-08-08T08:36:23",
          "2018-11-30T08:52:20",
          "2018-06-08T07:25:30",
          "2018-09-15T08:33:49"
         ],
         "xaxis": "x",
         "y": [
          1009,
          100,
          20.71,
          18.93,
          18.48,
          18.14,
          17.54,
          17.36,
          16.85,
          16.36,
          15.96,
          15.05,
          14.42,
          13.83,
          13.53,
          12.98,
          12.96,
          12.52,
          12.32,
          11.88,
          11.72
         ],
         "yaxis": "y"
        },
        {
         "customdata": [
          [
           "Megan Price",
           "pub"
          ],
          [
           "Crystal Clark",
           "pub"
          ],
          [
           "Crystal Clark",
           "pub"
          ],
          [
           "Matthew Gutierrez",
           "pub"
          ],
          [
           "Mark Lewis",
           "pub"
          ],
          [
           "Gary Jacobs",
           "pub"
          ],
          [
           "Mark Lewis",
           "pub"
          ],
          [
           "John Martin",
           "pub"
          ],
          [
           "Sara Cooper",
           "pub"
          ],
          [
           "Mark Lewis",
           "pub"
          ],
          [
           "Megan Price",
           "pub"
          ],
          [
           "Kevin Spencer",
           "pub"
          ],
          [
           "John Martin",
           "pub"
          ],
          [
           "Brandon Pineda",
           "pub"
          ]
         ],
         "hovertemplate": "category=%{customdata[1]}<br>DATE=%{x}<br>AMOUNT=%{marker.size}<br>Name=%{customdata[0]}<extra></extra>",
         "legendgroup": "pub",
         "marker": {
          "color": "#ab63fa",
          "size": [
           748,
           19.86,
           19.34,
           19.27,
           18.82,
           18.6,
           17.8,
           17.13,
           16.28,
           15.21,
           13.59,
           13.46,
           11.68,
           11.65
          ],
          "sizemode": "area",
          "sizeref": 4.735,
          "symbol": "circle"
         },
         "mode": "markers",
         "name": "pub",
         "orientation": "v",
         "showlegend": true,
         "type": "scatter",
         "x": [
          "2018-12-14T08:51:41",
          "2018-10-18T07:16:04",
          "2018-03-26T08:08:27",
          "2018-12-23T07:39:47",
          "2018-06-09T07:29:28",
          "2018-06-24T07:28:48",
          "2018-09-02T07:36:42",
          "2018-12-28T07:02:38",
          "2018-01-06T08:49:34",
          "2018-01-14T07:33:54",
          "2018-09-03T07:27:55",
          "2018-02-26T07:31:20",
          "2018-02-25T07:37:03",
          "2018-05-04T08:21:59"
         ],
         "xaxis": "x",
         "y": [
          748,
          19.86,
          19.34,
          19.27,
          18.82,
          18.6,
          17.8,
          17.13,
          16.28,
          15.21,
          13.59,
          13.46,
          11.68,
          11.65
         ],
         "yaxis": "y"
        },
        {
         "customdata": [
          [
           "Kevin Spencer",
           "food truck"
          ],
          [
           "Kevin Spencer",
           "food truck"
          ],
          [
           "Stephanie Dalton",
           "food truck"
          ],
          [
           "Danielle Green",
           "food truck"
          ],
          [
           "Sara Cooper",
           "food truck"
          ],
          [
           "Peter Mckay",
           "food truck"
          ],
          [
           "Mark Lewis",
           "food truck"
          ],
          [
           "Stephanie Dalton",
           "food truck"
          ],
          [
           "Malik Carlson",
           "food truck"
          ],
          [
           "Mark Lewis",
           "food truck"
          ],
          [
           "Brandon Pineda",
           "food truck"
          ],
          [
           "Sara Cooper",
           "food truck"
          ],
          [
           "Michael Floyd",
           "food truck"
          ],
          [
           "Stephanie Dalton",
           "food truck"
          ],
          [
           "Beth Hernandez",
           "food truck"
          ],
          [
           "Kevin Spencer",
           "food truck"
          ],
          [
           "John Martin",
           "food truck"
          ],
          [
           "Stephanie Dalton",
           "food truck"
          ],
          [
           "Michael Floyd",
           "food truck"
          ],
          [
           "Peter Mckay",
           "food truck"
          ],
          [
           "Megan Price",
           "food truck"
          ],
          [
           "Nancy Contreras",
           "food truck"
          ],
          [
           "Kyle Tucker",
           "food truck"
          ],
          [
           "Peter Mckay",
           "food truck"
          ],
          [
           "Malik Carlson",
           "food truck"
          ],
          [
           "Sara Cooper",
           "food truck"
          ],
          [
           "Robert Johnson",
           "food truck"
          ],
          [
           "John Martin",
           "food truck"
          ],
          [
           "Dana Washington",
           "food truck"
          ]
         ],
         "hovertemplate": "category=%{customdata[1]}<br>DATE=%{x}<br>AMOUNT=%{marker.size}<br>Name=%{customdata[0]}<extra></extra>",
         "legendgroup": "food truck",
         "marker": {
          "color": "#FFA15A",
          "size": [
           23.13,
           20.44,
           19.5,
           19.49,
           18.98,
           18.93,
           18.76,
           18.53,
           18.3,
           17.73,
           17.53,
           16.85,
           16.65,
           16.38,
           16.35,
           16.21,
           16.07,
           15.37,
           15.1,
           14.94,
           14.8,
           14.36,
           14.3,
           13.52,
           12.67,
           12.5,
           12.17,
           11.73,
           11.7
          ],
          "sizemode": "area",
          "sizeref": 4.735,
          "symbol": "circle"
         },
         "mode": "markers",
         "name": "food truck",
         "orientation": "v",
         "showlegend": true,
         "type": "scatter",
         "x": [
          "2018-08-26T07:15:18",
          "2018-10-07T08:16:54",
          "2018-03-03T08:42:02",
          "2018-06-04T08:30:28",
          "2018-02-21T08:21:10",
          "2018-08-02T07:44:24",
          "2018-06-02T07:45:48",
          "2018-10-07T07:08:08",
          "2018-02-18T08:54:19",
          "2018-04-09T07:08:11",
          "2018-01-18T08:58:13",
          "2018-10-28T07:02:33",
          "2018-04-23T08:18:49",
          "2018-02-18T07:25:42",
          "2018-12-16T08:41:53",
          "2018-07-17T08:10:36",
          "2018-04-11T08:26:52",
          "2018-05-20T07:05:42",
          "2018-02-25T08:23:37",
          "2018-09-26T07:52:23",
          "2018-04-07T07:18:20",
          "2018-12-15T08:34:15",
          "2018-04-24T07:41:49",
          "2018-04-27T08:08:38",
          "2018-01-17T07:31:03",
          "2018-07-30T08:49:16",
          "2018-02-19T08:50:36",
          "2018-04-08T07:06:20",
          "2018-12-18T07:45:28"
         ],
         "xaxis": "x",
         "y": [
          23.13,
          20.44,
          19.5,
          19.49,
          18.98,
          18.93,
          18.76,
          18.53,
          18.3,
          17.73,
          17.53,
          16.85,
          16.65,
          16.38,
          16.35,
          16.21,
          16.07,
          15.37,
          15.1,
          14.94,
          14.8,
          14.36,
          14.3,
          13.52,
          12.67,
          12.5,
          12.17,
          11.73,
          11.7
         ],
         "yaxis": "y"
        }
       ],
       "layout": {
        "legend": {
         "itemsizing": "constant",
         "title": {
          "text": "category"
         },
         "tracegroupgap": 0
        },
        "template": {
         "data": {
          "bar": [
           {
            "error_x": {
             "color": "#2a3f5f"
            },
            "error_y": {
             "color": "#2a3f5f"
            },
            "marker": {
             "line": {
              "color": "#E5ECF6",
              "width": 0.5
             },
             "pattern": {
              "fillmode": "overlay",
              "size": 10,
              "solidity": 0.2
             }
            },
            "type": "bar"
           }
          ],
          "barpolar": [
           {
            "marker": {
             "line": {
              "color": "#E5ECF6",
              "width": 0.5
             },
             "pattern": {
              "fillmode": "overlay",
              "size": 10,
              "solidity": 0.2
             }
            },
            "type": "barpolar"
           }
          ],
          "carpet": [
           {
            "aaxis": {
             "endlinecolor": "#2a3f5f",
             "gridcolor": "white",
             "linecolor": "white",
             "minorgridcolor": "white",
             "startlinecolor": "#2a3f5f"
            },
            "baxis": {
             "endlinecolor": "#2a3f5f",
             "gridcolor": "white",
             "linecolor": "white",
             "minorgridcolor": "white",
             "startlinecolor": "#2a3f5f"
            },
            "type": "carpet"
           }
          ],
          "choropleth": [
           {
            "colorbar": {
             "outlinewidth": 0,
             "ticks": ""
            },
            "type": "choropleth"
           }
          ],
          "contour": [
           {
            "colorbar": {
             "outlinewidth": 0,
             "ticks": ""
            },
            "colorscale": [
             [
              0,
              "#0d0887"
             ],
             [
              0.1111111111111111,
              "#46039f"
             ],
             [
              0.2222222222222222,
              "#7201a8"
             ],
             [
              0.3333333333333333,
              "#9c179e"
             ],
             [
              0.4444444444444444,
              "#bd3786"
             ],
             [
              0.5555555555555556,
              "#d8576b"
             ],
             [
              0.6666666666666666,
              "#ed7953"
             ],
             [
              0.7777777777777778,
              "#fb9f3a"
             ],
             [
              0.8888888888888888,
              "#fdca26"
             ],
             [
              1,
              "#f0f921"
             ]
            ],
            "type": "contour"
           }
          ],
          "contourcarpet": [
           {
            "colorbar": {
             "outlinewidth": 0,
             "ticks": ""
            },
            "type": "contourcarpet"
           }
          ],
          "heatmap": [
           {
            "colorbar": {
             "outlinewidth": 0,
             "ticks": ""
            },
            "colorscale": [
             [
              0,
              "#0d0887"
             ],
             [
              0.1111111111111111,
              "#46039f"
             ],
             [
              0.2222222222222222,
              "#7201a8"
             ],
             [
              0.3333333333333333,
              "#9c179e"
             ],
             [
              0.4444444444444444,
              "#bd3786"
             ],
             [
              0.5555555555555556,
              "#d8576b"
             ],
             [
              0.6666666666666666,
              "#ed7953"
             ],
             [
              0.7777777777777778,
              "#fb9f3a"
             ],
             [
              0.8888888888888888,
              "#fdca26"
             ],
             [
              1,
              "#f0f921"
             ]
            ],
            "type": "heatmap"
           }
          ],
          "heatmapgl": [
           {
            "colorbar": {
             "outlinewidth": 0,
             "ticks": ""
            },
            "colorscale": [
             [
              0,
              "#0d0887"
             ],
             [
              0.1111111111111111,
              "#46039f"
             ],
             [
              0.2222222222222222,
              "#7201a8"
             ],
             [
              0.3333333333333333,
              "#9c179e"
             ],
             [
              0.4444444444444444,
              "#bd3786"
             ],
             [
              0.5555555555555556,
              "#d8576b"
             ],
             [
              0.6666666666666666,
              "#ed7953"
             ],
             [
              0.7777777777777778,
              "#fb9f3a"
             ],
             [
              0.8888888888888888,
              "#fdca26"
             ],
             [
              1,
              "#f0f921"
             ]
            ],
            "type": "heatmapgl"
           }
          ],
          "histogram": [
           {
            "marker": {
             "pattern": {
              "fillmode": "overlay",
              "size": 10,
              "solidity": 0.2
             }
            },
            "type": "histogram"
           }
          ],
          "histogram2d": [
           {
            "colorbar": {
             "outlinewidth": 0,
             "ticks": ""
            },
            "colorscale": [
             [
              0,
              "#0d0887"
             ],
             [
              0.1111111111111111,
              "#46039f"
             ],
             [
              0.2222222222222222,
              "#7201a8"
             ],
             [
              0.3333333333333333,
              "#9c179e"
             ],
             [
              0.4444444444444444,
              "#bd3786"
             ],
             [
              0.5555555555555556,
              "#d8576b"
             ],
             [
              0.6666666666666666,
              "#ed7953"
             ],
             [
              0.7777777777777778,
              "#fb9f3a"
             ],
             [
              0.8888888888888888,
              "#fdca26"
             ],
             [
              1,
              "#f0f921"
             ]
            ],
            "type": "histogram2d"
           }
          ],
          "histogram2dcontour": [
           {
            "colorbar": {
             "outlinewidth": 0,
             "ticks": ""
            },
            "colorscale": [
             [
              0,
              "#0d0887"
             ],
             [
              0.1111111111111111,
              "#46039f"
             ],
             [
              0.2222222222222222,
              "#7201a8"
             ],
             [
              0.3333333333333333,
              "#9c179e"
             ],
             [
              0.4444444444444444,
              "#bd3786"
             ],
             [
              0.5555555555555556,
              "#d8576b"
             ],
             [
              0.6666666666666666,
              "#ed7953"
             ],
             [
              0.7777777777777778,
              "#fb9f3a"
             ],
             [
              0.8888888888888888,
              "#fdca26"
             ],
             [
              1,
              "#f0f921"
             ]
            ],
            "type": "histogram2dcontour"
           }
          ],
          "mesh3d": [
           {
            "colorbar": {
             "outlinewidth": 0,
             "ticks": ""
            },
            "type": "mesh3d"
           }
          ],
          "parcoords": [
           {
            "line": {
             "colorbar": {
              "outlinewidth": 0,
              "ticks": ""
             }
            },
            "type": "parcoords"
           }
          ],
          "pie": [
           {
            "automargin": true,
            "type": "pie"
           }
          ],
          "scatter": [
           {
            "fillpattern": {
             "fillmode": "overlay",
             "size": 10,
             "solidity": 0.2
            },
            "type": "scatter"
           }
          ],
          "scatter3d": [
           {
            "line": {
             "colorbar": {
              "outlinewidth": 0,
              "ticks": ""
             }
            },
            "marker": {
             "colorbar": {
              "outlinewidth": 0,
              "ticks": ""
             }
            },
            "type": "scatter3d"
           }
          ],
          "scattercarpet": [
           {
            "marker": {
             "colorbar": {
              "outlinewidth": 0,
              "ticks": ""
             }
            },
            "type": "scattercarpet"
           }
          ],
          "scattergeo": [
           {
            "marker": {
             "colorbar": {
              "outlinewidth": 0,
              "ticks": ""
             }
            },
            "type": "scattergeo"
           }
          ],
          "scattergl": [
           {
            "marker": {
             "colorbar": {
              "outlinewidth": 0,
              "ticks": ""
             }
            },
            "type": "scattergl"
           }
          ],
          "scattermapbox": [
           {
            "marker": {
             "colorbar": {
              "outlinewidth": 0,
              "ticks": ""
             }
            },
            "type": "scattermapbox"
           }
          ],
          "scatterpolar": [
           {
            "marker": {
             "colorbar": {
              "outlinewidth": 0,
              "ticks": ""
             }
            },
            "type": "scatterpolar"
           }
          ],
          "scatterpolargl": [
           {
            "marker": {
             "colorbar": {
              "outlinewidth": 0,
              "ticks": ""
             }
            },
            "type": "scatterpolargl"
           }
          ],
          "scatterternary": [
           {
            "marker": {
             "colorbar": {
              "outlinewidth": 0,
              "ticks": ""
             }
            },
            "type": "scatterternary"
           }
          ],
          "surface": [
           {
            "colorbar": {
             "outlinewidth": 0,
             "ticks": ""
            },
            "colorscale": [
             [
              0,
              "#0d0887"
             ],
             [
              0.1111111111111111,
              "#46039f"
             ],
             [
              0.2222222222222222,
              "#7201a8"
             ],
             [
              0.3333333333333333,
              "#9c179e"
             ],
             [
              0.4444444444444444,
              "#bd3786"
             ],
             [
              0.5555555555555556,
              "#d8576b"
             ],
             [
              0.6666666666666666,
              "#ed7953"
             ],
             [
              0.7777777777777778,
              "#fb9f3a"
             ],
             [
              0.8888888888888888,
              "#fdca26"
             ],
             [
              1,
              "#f0f921"
             ]
            ],
            "type": "surface"
           }
          ],
          "table": [
           {
            "cells": {
             "fill": {
              "color": "#EBF0F8"
             },
             "line": {
              "color": "white"
             }
            },
            "header": {
             "fill": {
              "color": "#C8D4E3"
             },
             "line": {
              "color": "white"
             }
            },
            "type": "table"
           }
          ]
         },
         "layout": {
          "annotationdefaults": {
           "arrowcolor": "#2a3f5f",
           "arrowhead": 0,
           "arrowwidth": 1
          },
          "autotypenumbers": "strict",
          "coloraxis": {
           "colorbar": {
            "outlinewidth": 0,
            "ticks": ""
           }
          },
          "colorscale": {
           "diverging": [
            [
             0,
             "#8e0152"
            ],
            [
             0.1,
             "#c51b7d"
            ],
            [
             0.2,
             "#de77ae"
            ],
            [
             0.3,
             "#f1b6da"
            ],
            [
             0.4,
             "#fde0ef"
            ],
            [
             0.5,
             "#f7f7f7"
            ],
            [
             0.6,
             "#e6f5d0"
            ],
            [
             0.7,
             "#b8e186"
            ],
            [
             0.8,
             "#7fbc41"
            ],
            [
             0.9,
             "#4d9221"
            ],
            [
             1,
             "#276419"
            ]
           ],
           "sequential": [
            [
             0,
             "#0d0887"
            ],
            [
             0.1111111111111111,
             "#46039f"
            ],
            [
             0.2222222222222222,
             "#7201a8"
            ],
            [
             0.3333333333333333,
             "#9c179e"
            ],
            [
             0.4444444444444444,
             "#bd3786"
            ],
            [
             0.5555555555555556,
             "#d8576b"
            ],
            [
             0.6666666666666666,
             "#ed7953"
            ],
            [
             0.7777777777777778,
             "#fb9f3a"
            ],
            [
             0.8888888888888888,
             "#fdca26"
            ],
            [
             1,
             "#f0f921"
            ]
           ],
           "sequentialminus": [
            [
             0,
             "#0d0887"
            ],
            [
             0.1111111111111111,
             "#46039f"
            ],
            [
             0.2222222222222222,
             "#7201a8"
            ],
            [
             0.3333333333333333,
             "#9c179e"
            ],
            [
             0.4444444444444444,
             "#bd3786"
            ],
            [
             0.5555555555555556,
             "#d8576b"
            ],
            [
             0.6666666666666666,
             "#ed7953"
            ],
            [
             0.7777777777777778,
             "#fb9f3a"
            ],
            [
             0.8888888888888888,
             "#fdca26"
            ],
            [
             1,
             "#f0f921"
            ]
           ]
          },
          "colorway": [
           "#636efa",
           "#EF553B",
           "#00cc96",
           "#ab63fa",
           "#FFA15A",
           "#19d3f3",
           "#FF6692",
           "#B6E880",
           "#FF97FF",
           "#FECB52"
          ],
          "font": {
           "color": "#2a3f5f"
          },
          "geo": {
           "bgcolor": "white",
           "lakecolor": "white",
           "landcolor": "#E5ECF6",
           "showlakes": true,
           "showland": true,
           "subunitcolor": "white"
          },
          "hoverlabel": {
           "align": "left"
          },
          "hovermode": "closest",
          "mapbox": {
           "style": "light"
          },
          "paper_bgcolor": "white",
          "plot_bgcolor": "#E5ECF6",
          "polar": {
           "angularaxis": {
            "gridcolor": "white",
            "linecolor": "white",
            "ticks": ""
           },
           "bgcolor": "#E5ECF6",
           "radialaxis": {
            "gridcolor": "white",
            "linecolor": "white",
            "ticks": ""
           }
          },
          "scene": {
           "xaxis": {
            "backgroundcolor": "#E5ECF6",
            "gridcolor": "white",
            "gridwidth": 2,
            "linecolor": "white",
            "showbackground": true,
            "ticks": "",
            "zerolinecolor": "white"
           },
           "yaxis": {
            "backgroundcolor": "#E5ECF6",
            "gridcolor": "white",
            "gridwidth": 2,
            "linecolor": "white",
            "showbackground": true,
            "ticks": "",
            "zerolinecolor": "white"
           },
           "zaxis": {
            "backgroundcolor": "#E5ECF6",
            "gridcolor": "white",
            "gridwidth": 2,
            "linecolor": "white",
            "showbackground": true,
            "ticks": "",
            "zerolinecolor": "white"
           }
          },
          "shapedefaults": {
           "line": {
            "color": "#2a3f5f"
           }
          },
          "ternary": {
           "aaxis": {
            "gridcolor": "white",
            "linecolor": "white",
            "ticks": ""
           },
           "baxis": {
            "gridcolor": "white",
            "linecolor": "white",
            "ticks": ""
           },
           "bgcolor": "#E5ECF6",
           "caxis": {
            "gridcolor": "white",
            "linecolor": "white",
            "ticks": ""
           }
          },
          "title": {
           "x": 0.05
          },
          "xaxis": {
           "automargin": true,
           "gridcolor": "white",
           "linecolor": "white",
           "ticks": "",
           "title": {
            "standoff": 15
           },
           "zerolinecolor": "white",
           "zerolinewidth": 2
          },
          "yaxis": {
           "automargin": true,
           "gridcolor": "white",
           "linecolor": "white",
           "ticks": "",
           "title": {
            "standoff": 15
           },
           "zerolinecolor": "white",
           "zerolinewidth": 2
          }
         }
        },
        "title": {
         "text": "Early Hour Transactions"
        },
        "xaxis": {
         "anchor": "y",
         "domain": [
          0,
          1
         ],
         "title": {
          "text": "DATE"
         }
        },
        "yaxis": {
         "anchor": "x",
         "domain": [
          0,
          1
         ],
         "title": {
          "text": "AMOUNT"
         }
        }
       }
      },
      "text/html": [
       "<div>                            <div id=\"ca3ce643-4aa3-40d0-9bee-0c0a6a70acd2\" class=\"plotly-graph-div\" style=\"height:525px; width:100%;\"></div>            <script type=\"text/javascript\">                require([\"plotly\"], function(Plotly) {                    window.PLOTLYENV=window.PLOTLYENV || {};                                    if (document.getElementById(\"ca3ce643-4aa3-40d0-9bee-0c0a6a70acd2\")) {                    Plotly.newPlot(                        \"ca3ce643-4aa3-40d0-9bee-0c0a6a70acd2\",                        [{\"customdata\":[[\"Robert Johnson\",\"bar\"],[\"Crystal Clark\",\"bar\"],[\"Nancy Contreras\",\"bar\"],[\"Robert Johnson\",\"bar\"],[\"Megan Price\",\"bar\"],[\"Kevin Spencer\",\"bar\"],[\"Sara Cooper\",\"bar\"],[\"Danielle Green\",\"bar\"],[\"Nancy Contreras\",\"bar\"],[\"Kevin Spencer\",\"bar\"],[\"Crystal Clark\",\"bar\"],[\"Stephanie Dalton\",\"bar\"],[\"Kyle Tucker\",\"bar\"],[\"Megan Price\",\"bar\"],[\"Stephanie Dalton\",\"bar\"],[\"Danielle Green\",\"bar\"]],\"hovertemplate\":\"category=%{customdata[1]}\\u003cbr\\u003eDATE=%{x}\\u003cbr\\u003eAMOUNT=%{marker.size}\\u003cbr\\u003eName=%{customdata[0]}\\u003cextra\\u003e\\u003c\\u002fextra\\u003e\",\"legendgroup\":\"bar\",\"marker\":{\"color\":\"#636efa\",\"size\":[1894.0,1617.0,1334.0,1017.0,17.78,17.47,17.03,16.64,16.58,15.98,15.94,15.04,12.98,11.96,11.93,11.86],\"sizemode\":\"area\",\"sizeref\":4.735,\"symbol\":\"circle\"},\"mode\":\"markers\",\"name\":\"bar\",\"orientation\":\"v\",\"showlegend\":true,\"x\":[\"2018-12-07T07:22:03\",\"2018-03-05T08:26:08\",\"2018-03-06T07:18:09\",\"2018-09-06T08:28:55\",\"2018-04-15T08:32:38\",\"2018-06-02T07:44:39\",\"2018-06-08T07:31:57\",\"2018-05-03T07:20:28\",\"2018-03-05T07:34:15\",\"2018-09-06T08:35:35\",\"2018-06-26T08:00:22\",\"2018-04-20T08:27:59\",\"2018-05-01T07:40:00\",\"2018-01-20T08:35:34\",\"2018-07-31T07:44:59\",\"2018-08-30T08:46:49\"],\"xaxis\":\"x\",\"y\":[1894.0,1617.0,1334.0,1017.0,17.78,17.47,17.03,16.64,16.58,15.98,15.94,15.04,12.98,11.96,11.93,11.86],\"yaxis\":\"y\",\"type\":\"scatter\"},{\"customdata\":[[\"Crystal Clark\",\"restaurant\"],[\"Robert Johnson\",\"restaurant\"],[\"Brandon Pineda\",\"restaurant\"],[\"Kyle Tucker\",\"restaurant\"],[\"Kevin Spencer\",\"restaurant\"],[\"Michael Floyd\",\"restaurant\"],[\"Malik Carlson\",\"restaurant\"],[\"Shane Shaffer\",\"restaurant\"],[\"John Martin\",\"restaurant\"],[\"Brandon Pineda\",\"restaurant\"],[\"Dana Washington\",\"restaurant\"],[\"Beth Hernandez\",\"restaurant\"],[\"Malik Carlson\",\"restaurant\"],[\"Nancy Contreras\",\"restaurant\"],[\"Mark Lewis\",\"restaurant\"],[\"Kyle Tucker\",\"restaurant\"],[\"Robert Johnson\",\"restaurant\"],[\"Malik Carlson\",\"restaurant\"],[\"Stephanie Dalton\",\"restaurant\"],[\"Mark Lewis\",\"restaurant\"]],\"hovertemplate\":\"category=%{customdata[1]}\\u003cbr\\u003eDATE=%{x}\\u003cbr\\u003eAMOUNT=%{marker.size}\\u003cbr\\u003eName=%{customdata[0]}\\u003cextra\\u003e\\u003c\\u002fextra\\u003e\",\"legendgroup\":\"restaurant\",\"marker\":{\"color\":\"#EF553B\",\"size\":[1131.0,1060.0,19.33,19.02,18.72,18.56,18.54,18.52,18.35,17.85,17.56,17.48,16.16,15.98,15.94,15.15,14.92,12.25,11.91,11.87],\"sizemode\":\"area\",\"sizeref\":4.735,\"symbol\":\"circle\"},\"mode\":\"markers\",\"name\":\"restaurant\",\"orientation\":\"v\",\"showlegend\":true,\"x\":[\"2018-01-22T08:07:03\",\"2018-09-26T08:48:40\",\"2018-06-01T08:56:59\",\"2018-09-23T07:30:56\",\"2018-01-06T08:42:50\",\"2018-06-23T07:12:06\",\"2018-08-14T08:38:49\",\"2018-02-27T08:27:00\",\"2018-01-06T07:00:32\",\"2018-02-05T08:37:24\",\"2018-06-13T08:46:29\",\"2018-05-20T08:36:46\",\"2018-06-10T07:55:27\",\"2018-06-19T07:16:54\",\"2018-10-30T07:08:04\",\"2018-01-27T08:36:58\",\"2018-12-11T07:42:50\",\"2018-12-29T08:11:55\",\"2018-01-17T07:56:09\",\"2018-12-31T08:22:17\"],\"xaxis\":\"x\",\"y\":[1131.0,1060.0,19.33,19.02,18.72,18.56,18.54,18.52,18.35,17.85,17.56,17.48,16.16,15.98,15.94,15.15,14.92,12.25,11.91,11.87],\"yaxis\":\"y\",\"type\":\"scatter\"},{\"customdata\":[[\"Laurie Gibbs\",\"coffee shop\"],[\"Nancy Contreras\",\"coffee shop\"],[\"Matthew Gutierrez\",\"coffee shop\"],[\"Matthew Gutierrez\",\"coffee shop\"],[\"Michael Floyd\",\"coffee shop\"],[\"Kevin Spencer\",\"coffee shop\"],[\"Matthew Gutierrez\",\"coffee shop\"],[\"Elizabeth Sawyer\",\"coffee shop\"],[\"Crystal Clark\",\"coffee shop\"],[\"Matthew Gutierrez\",\"coffee shop\"],[\"Shane Shaffer\",\"coffee shop\"],[\"John Martin\",\"coffee shop\"],[\"Sean Taylor\",\"coffee shop\"],[\"John Martin\",\"coffee shop\"],[\"Shane Shaffer\",\"coffee shop\"],[\"Mark Lewis\",\"coffee shop\"],[\"Sara Cooper\",\"coffee shop\"],[\"Brandon Pineda\",\"coffee shop\"],[\"Sean Taylor\",\"coffee shop\"],[\"Nancy Contreras\",\"coffee shop\"],[\"Crystal Clark\",\"coffee shop\"]],\"hovertemplate\":\"category=%{customdata[1]}\\u003cbr\\u003eDATE=%{x}\\u003cbr\\u003eAMOUNT=%{marker.size}\\u003cbr\\u003eName=%{customdata[0]}\\u003cextra\\u003e\\u003c\\u002fextra\\u003e\",\"legendgroup\":\"coffee shop\",\"marker\":{\"color\":\"#00cc96\",\"size\":[1009.0,100.0,20.71,18.93,18.48,18.14,17.54,17.36,16.85,16.36,15.96,15.05,14.42,13.83,13.53,12.98,12.96,12.52,12.32,11.88,11.72],\"sizemode\":\"area\",\"sizeref\":4.735,\"symbol\":\"circle\"},\"mode\":\"markers\",\"name\":\"coffee shop\",\"orientation\":\"v\",\"showlegend\":true,\"x\":[\"2018-03-26T07:41:59\",\"2018-04-01T07:17:21\",\"2018-08-28T07:17:14\",\"2018-07-04T08:51:29\",\"2018-09-12T07:33:19\",\"2018-02-25T07:55:21\",\"2018-01-18T08:18:50\",\"2018-01-16T08:02:04\",\"2018-10-29T07:18:34\",\"2018-03-28T07:36:02\",\"2018-05-28T07:57:39\",\"2018-06-10T08:20:40\",\"2018-08-02T07:13:49\",\"2018-10-22T07:41:56\",\"2018-03-10T08:52:09\",\"2018-10-27T08:04:44\",\"2018-03-30T08:12:28\",\"2018-08-08T08:36:23\",\"2018-11-30T08:52:20\",\"2018-06-08T07:25:30\",\"2018-09-15T08:33:49\"],\"xaxis\":\"x\",\"y\":[1009.0,100.0,20.71,18.93,18.48,18.14,17.54,17.36,16.85,16.36,15.96,15.05,14.42,13.83,13.53,12.98,12.96,12.52,12.32,11.88,11.72],\"yaxis\":\"y\",\"type\":\"scatter\"},{\"customdata\":[[\"Megan Price\",\"pub\"],[\"Crystal Clark\",\"pub\"],[\"Crystal Clark\",\"pub\"],[\"Matthew Gutierrez\",\"pub\"],[\"Mark Lewis\",\"pub\"],[\"Gary Jacobs\",\"pub\"],[\"Mark Lewis\",\"pub\"],[\"John Martin\",\"pub\"],[\"Sara Cooper\",\"pub\"],[\"Mark Lewis\",\"pub\"],[\"Megan Price\",\"pub\"],[\"Kevin Spencer\",\"pub\"],[\"John Martin\",\"pub\"],[\"Brandon Pineda\",\"pub\"]],\"hovertemplate\":\"category=%{customdata[1]}\\u003cbr\\u003eDATE=%{x}\\u003cbr\\u003eAMOUNT=%{marker.size}\\u003cbr\\u003eName=%{customdata[0]}\\u003cextra\\u003e\\u003c\\u002fextra\\u003e\",\"legendgroup\":\"pub\",\"marker\":{\"color\":\"#ab63fa\",\"size\":[748.0,19.86,19.34,19.27,18.82,18.6,17.8,17.13,16.28,15.21,13.59,13.46,11.68,11.65],\"sizemode\":\"area\",\"sizeref\":4.735,\"symbol\":\"circle\"},\"mode\":\"markers\",\"name\":\"pub\",\"orientation\":\"v\",\"showlegend\":true,\"x\":[\"2018-12-14T08:51:41\",\"2018-10-18T07:16:04\",\"2018-03-26T08:08:27\",\"2018-12-23T07:39:47\",\"2018-06-09T07:29:28\",\"2018-06-24T07:28:48\",\"2018-09-02T07:36:42\",\"2018-12-28T07:02:38\",\"2018-01-06T08:49:34\",\"2018-01-14T07:33:54\",\"2018-09-03T07:27:55\",\"2018-02-26T07:31:20\",\"2018-02-25T07:37:03\",\"2018-05-04T08:21:59\"],\"xaxis\":\"x\",\"y\":[748.0,19.86,19.34,19.27,18.82,18.6,17.8,17.13,16.28,15.21,13.59,13.46,11.68,11.65],\"yaxis\":\"y\",\"type\":\"scatter\"},{\"customdata\":[[\"Kevin Spencer\",\"food truck\"],[\"Kevin Spencer\",\"food truck\"],[\"Stephanie Dalton\",\"food truck\"],[\"Danielle Green\",\"food truck\"],[\"Sara Cooper\",\"food truck\"],[\"Peter Mckay\",\"food truck\"],[\"Mark Lewis\",\"food truck\"],[\"Stephanie Dalton\",\"food truck\"],[\"Malik Carlson\",\"food truck\"],[\"Mark Lewis\",\"food truck\"],[\"Brandon Pineda\",\"food truck\"],[\"Sara Cooper\",\"food truck\"],[\"Michael Floyd\",\"food truck\"],[\"Stephanie Dalton\",\"food truck\"],[\"Beth Hernandez\",\"food truck\"],[\"Kevin Spencer\",\"food truck\"],[\"John Martin\",\"food truck\"],[\"Stephanie Dalton\",\"food truck\"],[\"Michael Floyd\",\"food truck\"],[\"Peter Mckay\",\"food truck\"],[\"Megan Price\",\"food truck\"],[\"Nancy Contreras\",\"food truck\"],[\"Kyle Tucker\",\"food truck\"],[\"Peter Mckay\",\"food truck\"],[\"Malik Carlson\",\"food truck\"],[\"Sara Cooper\",\"food truck\"],[\"Robert Johnson\",\"food truck\"],[\"John Martin\",\"food truck\"],[\"Dana Washington\",\"food truck\"]],\"hovertemplate\":\"category=%{customdata[1]}\\u003cbr\\u003eDATE=%{x}\\u003cbr\\u003eAMOUNT=%{marker.size}\\u003cbr\\u003eName=%{customdata[0]}\\u003cextra\\u003e\\u003c\\u002fextra\\u003e\",\"legendgroup\":\"food truck\",\"marker\":{\"color\":\"#FFA15A\",\"size\":[23.13,20.44,19.5,19.49,18.98,18.93,18.76,18.53,18.3,17.73,17.53,16.85,16.65,16.38,16.35,16.21,16.07,15.37,15.1,14.94,14.8,14.36,14.3,13.52,12.67,12.5,12.17,11.73,11.7],\"sizemode\":\"area\",\"sizeref\":4.735,\"symbol\":\"circle\"},\"mode\":\"markers\",\"name\":\"food truck\",\"orientation\":\"v\",\"showlegend\":true,\"x\":[\"2018-08-26T07:15:18\",\"2018-10-07T08:16:54\",\"2018-03-03T08:42:02\",\"2018-06-04T08:30:28\",\"2018-02-21T08:21:10\",\"2018-08-02T07:44:24\",\"2018-06-02T07:45:48\",\"2018-10-07T07:08:08\",\"2018-02-18T08:54:19\",\"2018-04-09T07:08:11\",\"2018-01-18T08:58:13\",\"2018-10-28T07:02:33\",\"2018-04-23T08:18:49\",\"2018-02-18T07:25:42\",\"2018-12-16T08:41:53\",\"2018-07-17T08:10:36\",\"2018-04-11T08:26:52\",\"2018-05-20T07:05:42\",\"2018-02-25T08:23:37\",\"2018-09-26T07:52:23\",\"2018-04-07T07:18:20\",\"2018-12-15T08:34:15\",\"2018-04-24T07:41:49\",\"2018-04-27T08:08:38\",\"2018-01-17T07:31:03\",\"2018-07-30T08:49:16\",\"2018-02-19T08:50:36\",\"2018-04-08T07:06:20\",\"2018-12-18T07:45:28\"],\"xaxis\":\"x\",\"y\":[23.13,20.44,19.5,19.49,18.98,18.93,18.76,18.53,18.3,17.73,17.53,16.85,16.65,16.38,16.35,16.21,16.07,15.37,15.1,14.94,14.8,14.36,14.3,13.52,12.67,12.5,12.17,11.73,11.7],\"yaxis\":\"y\",\"type\":\"scatter\"}],                        {\"template\":{\"data\":{\"histogram2dcontour\":[{\"type\":\"histogram2dcontour\",\"colorbar\":{\"outlinewidth\":0,\"ticks\":\"\"},\"colorscale\":[[0.0,\"#0d0887\"],[0.1111111111111111,\"#46039f\"],[0.2222222222222222,\"#7201a8\"],[0.3333333333333333,\"#9c179e\"],[0.4444444444444444,\"#bd3786\"],[0.5555555555555556,\"#d8576b\"],[0.6666666666666666,\"#ed7953\"],[0.7777777777777778,\"#fb9f3a\"],[0.8888888888888888,\"#fdca26\"],[1.0,\"#f0f921\"]]}],\"choropleth\":[{\"type\":\"choropleth\",\"colorbar\":{\"outlinewidth\":0,\"ticks\":\"\"}}],\"histogram2d\":[{\"type\":\"histogram2d\",\"colorbar\":{\"outlinewidth\":0,\"ticks\":\"\"},\"colorscale\":[[0.0,\"#0d0887\"],[0.1111111111111111,\"#46039f\"],[0.2222222222222222,\"#7201a8\"],[0.3333333333333333,\"#9c179e\"],[0.4444444444444444,\"#bd3786\"],[0.5555555555555556,\"#d8576b\"],[0.6666666666666666,\"#ed7953\"],[0.7777777777777778,\"#fb9f3a\"],[0.8888888888888888,\"#fdca26\"],[1.0,\"#f0f921\"]]}],\"heatmap\":[{\"type\":\"heatmap\",\"colorbar\":{\"outlinewidth\":0,\"ticks\":\"\"},\"colorscale\":[[0.0,\"#0d0887\"],[0.1111111111111111,\"#46039f\"],[0.2222222222222222,\"#7201a8\"],[0.3333333333333333,\"#9c179e\"],[0.4444444444444444,\"#bd3786\"],[0.5555555555555556,\"#d8576b\"],[0.6666666666666666,\"#ed7953\"],[0.7777777777777778,\"#fb9f3a\"],[0.8888888888888888,\"#fdca26\"],[1.0,\"#f0f921\"]]}],\"heatmapgl\":[{\"type\":\"heatmapgl\",\"colorbar\":{\"outlinewidth\":0,\"ticks\":\"\"},\"colorscale\":[[0.0,\"#0d0887\"],[0.1111111111111111,\"#46039f\"],[0.2222222222222222,\"#7201a8\"],[0.3333333333333333,\"#9c179e\"],[0.4444444444444444,\"#bd3786\"],[0.5555555555555556,\"#d8576b\"],[0.6666666666666666,\"#ed7953\"],[0.7777777777777778,\"#fb9f3a\"],[0.8888888888888888,\"#fdca26\"],[1.0,\"#f0f921\"]]}],\"contourcarpet\":[{\"type\":\"contourcarpet\",\"colorbar\":{\"outlinewidth\":0,\"ticks\":\"\"}}],\"contour\":[{\"type\":\"contour\",\"colorbar\":{\"outlinewidth\":0,\"ticks\":\"\"},\"colorscale\":[[0.0,\"#0d0887\"],[0.1111111111111111,\"#46039f\"],[0.2222222222222222,\"#7201a8\"],[0.3333333333333333,\"#9c179e\"],[0.4444444444444444,\"#bd3786\"],[0.5555555555555556,\"#d8576b\"],[0.6666666666666666,\"#ed7953\"],[0.7777777777777778,\"#fb9f3a\"],[0.8888888888888888,\"#fdca26\"],[1.0,\"#f0f921\"]]}],\"surface\":[{\"type\":\"surface\",\"colorbar\":{\"outlinewidth\":0,\"ticks\":\"\"},\"colorscale\":[[0.0,\"#0d0887\"],[0.1111111111111111,\"#46039f\"],[0.2222222222222222,\"#7201a8\"],[0.3333333333333333,\"#9c179e\"],[0.4444444444444444,\"#bd3786\"],[0.5555555555555556,\"#d8576b\"],[0.6666666666666666,\"#ed7953\"],[0.7777777777777778,\"#fb9f3a\"],[0.8888888888888888,\"#fdca26\"],[1.0,\"#f0f921\"]]}],\"mesh3d\":[{\"type\":\"mesh3d\",\"colorbar\":{\"outlinewidth\":0,\"ticks\":\"\"}}],\"scatter\":[{\"fillpattern\":{\"fillmode\":\"overlay\",\"size\":10,\"solidity\":0.2},\"type\":\"scatter\"}],\"parcoords\":[{\"type\":\"parcoords\",\"line\":{\"colorbar\":{\"outlinewidth\":0,\"ticks\":\"\"}}}],\"scatterpolargl\":[{\"type\":\"scatterpolargl\",\"marker\":{\"colorbar\":{\"outlinewidth\":0,\"ticks\":\"\"}}}],\"bar\":[{\"error_x\":{\"color\":\"#2a3f5f\"},\"error_y\":{\"color\":\"#2a3f5f\"},\"marker\":{\"line\":{\"color\":\"#E5ECF6\",\"width\":0.5},\"pattern\":{\"fillmode\":\"overlay\",\"size\":10,\"solidity\":0.2}},\"type\":\"bar\"}],\"scattergeo\":[{\"type\":\"scattergeo\",\"marker\":{\"colorbar\":{\"outlinewidth\":0,\"ticks\":\"\"}}}],\"scatterpolar\":[{\"type\":\"scatterpolar\",\"marker\":{\"colorbar\":{\"outlinewidth\":0,\"ticks\":\"\"}}}],\"histogram\":[{\"marker\":{\"pattern\":{\"fillmode\":\"overlay\",\"size\":10,\"solidity\":0.2}},\"type\":\"histogram\"}],\"scattergl\":[{\"type\":\"scattergl\",\"marker\":{\"colorbar\":{\"outlinewidth\":0,\"ticks\":\"\"}}}],\"scatter3d\":[{\"type\":\"scatter3d\",\"line\":{\"colorbar\":{\"outlinewidth\":0,\"ticks\":\"\"}},\"marker\":{\"colorbar\":{\"outlinewidth\":0,\"ticks\":\"\"}}}],\"scattermapbox\":[{\"type\":\"scattermapbox\",\"marker\":{\"colorbar\":{\"outlinewidth\":0,\"ticks\":\"\"}}}],\"scatterternary\":[{\"type\":\"scatterternary\",\"marker\":{\"colorbar\":{\"outlinewidth\":0,\"ticks\":\"\"}}}],\"scattercarpet\":[{\"type\":\"scattercarpet\",\"marker\":{\"colorbar\":{\"outlinewidth\":0,\"ticks\":\"\"}}}],\"carpet\":[{\"aaxis\":{\"endlinecolor\":\"#2a3f5f\",\"gridcolor\":\"white\",\"linecolor\":\"white\",\"minorgridcolor\":\"white\",\"startlinecolor\":\"#2a3f5f\"},\"baxis\":{\"endlinecolor\":\"#2a3f5f\",\"gridcolor\":\"white\",\"linecolor\":\"white\",\"minorgridcolor\":\"white\",\"startlinecolor\":\"#2a3f5f\"},\"type\":\"carpet\"}],\"table\":[{\"cells\":{\"fill\":{\"color\":\"#EBF0F8\"},\"line\":{\"color\":\"white\"}},\"header\":{\"fill\":{\"color\":\"#C8D4E3\"},\"line\":{\"color\":\"white\"}},\"type\":\"table\"}],\"barpolar\":[{\"marker\":{\"line\":{\"color\":\"#E5ECF6\",\"width\":0.5},\"pattern\":{\"fillmode\":\"overlay\",\"size\":10,\"solidity\":0.2}},\"type\":\"barpolar\"}],\"pie\":[{\"automargin\":true,\"type\":\"pie\"}]},\"layout\":{\"autotypenumbers\":\"strict\",\"colorway\":[\"#636efa\",\"#EF553B\",\"#00cc96\",\"#ab63fa\",\"#FFA15A\",\"#19d3f3\",\"#FF6692\",\"#B6E880\",\"#FF97FF\",\"#FECB52\"],\"font\":{\"color\":\"#2a3f5f\"},\"hovermode\":\"closest\",\"hoverlabel\":{\"align\":\"left\"},\"paper_bgcolor\":\"white\",\"plot_bgcolor\":\"#E5ECF6\",\"polar\":{\"bgcolor\":\"#E5ECF6\",\"angularaxis\":{\"gridcolor\":\"white\",\"linecolor\":\"white\",\"ticks\":\"\"},\"radialaxis\":{\"gridcolor\":\"white\",\"linecolor\":\"white\",\"ticks\":\"\"}},\"ternary\":{\"bgcolor\":\"#E5ECF6\",\"aaxis\":{\"gridcolor\":\"white\",\"linecolor\":\"white\",\"ticks\":\"\"},\"baxis\":{\"gridcolor\":\"white\",\"linecolor\":\"white\",\"ticks\":\"\"},\"caxis\":{\"gridcolor\":\"white\",\"linecolor\":\"white\",\"ticks\":\"\"}},\"coloraxis\":{\"colorbar\":{\"outlinewidth\":0,\"ticks\":\"\"}},\"colorscale\":{\"sequential\":[[0.0,\"#0d0887\"],[0.1111111111111111,\"#46039f\"],[0.2222222222222222,\"#7201a8\"],[0.3333333333333333,\"#9c179e\"],[0.4444444444444444,\"#bd3786\"],[0.5555555555555556,\"#d8576b\"],[0.6666666666666666,\"#ed7953\"],[0.7777777777777778,\"#fb9f3a\"],[0.8888888888888888,\"#fdca26\"],[1.0,\"#f0f921\"]],\"sequentialminus\":[[0.0,\"#0d0887\"],[0.1111111111111111,\"#46039f\"],[0.2222222222222222,\"#7201a8\"],[0.3333333333333333,\"#9c179e\"],[0.4444444444444444,\"#bd3786\"],[0.5555555555555556,\"#d8576b\"],[0.6666666666666666,\"#ed7953\"],[0.7777777777777778,\"#fb9f3a\"],[0.8888888888888888,\"#fdca26\"],[1.0,\"#f0f921\"]],\"diverging\":[[0,\"#8e0152\"],[0.1,\"#c51b7d\"],[0.2,\"#de77ae\"],[0.3,\"#f1b6da\"],[0.4,\"#fde0ef\"],[0.5,\"#f7f7f7\"],[0.6,\"#e6f5d0\"],[0.7,\"#b8e186\"],[0.8,\"#7fbc41\"],[0.9,\"#4d9221\"],[1,\"#276419\"]]},\"xaxis\":{\"gridcolor\":\"white\",\"linecolor\":\"white\",\"ticks\":\"\",\"title\":{\"standoff\":15},\"zerolinecolor\":\"white\",\"automargin\":true,\"zerolinewidth\":2},\"yaxis\":{\"gridcolor\":\"white\",\"linecolor\":\"white\",\"ticks\":\"\",\"title\":{\"standoff\":15},\"zerolinecolor\":\"white\",\"automargin\":true,\"zerolinewidth\":2},\"scene\":{\"xaxis\":{\"backgroundcolor\":\"#E5ECF6\",\"gridcolor\":\"white\",\"linecolor\":\"white\",\"showbackground\":true,\"ticks\":\"\",\"zerolinecolor\":\"white\",\"gridwidth\":2},\"yaxis\":{\"backgroundcolor\":\"#E5ECF6\",\"gridcolor\":\"white\",\"linecolor\":\"white\",\"showbackground\":true,\"ticks\":\"\",\"zerolinecolor\":\"white\",\"gridwidth\":2},\"zaxis\":{\"backgroundcolor\":\"#E5ECF6\",\"gridcolor\":\"white\",\"linecolor\":\"white\",\"showbackground\":true,\"ticks\":\"\",\"zerolinecolor\":\"white\",\"gridwidth\":2}},\"shapedefaults\":{\"line\":{\"color\":\"#2a3f5f\"}},\"annotationdefaults\":{\"arrowcolor\":\"#2a3f5f\",\"arrowhead\":0,\"arrowwidth\":1},\"geo\":{\"bgcolor\":\"white\",\"landcolor\":\"#E5ECF6\",\"subunitcolor\":\"white\",\"showland\":true,\"showlakes\":true,\"lakecolor\":\"white\"},\"title\":{\"x\":0.05},\"mapbox\":{\"style\":\"light\"}}},\"xaxis\":{\"anchor\":\"y\",\"domain\":[0.0,1.0],\"title\":{\"text\":\"DATE\"}},\"yaxis\":{\"anchor\":\"x\",\"domain\":[0.0,1.0],\"title\":{\"text\":\"AMOUNT\"}},\"legend\":{\"title\":{\"text\":\"category\"},\"tracegroupgap\":0,\"itemsizing\":\"constant\"},\"title\":{\"text\":\"Early Hour Transactions\"}},                        {\"responsive\": true}                    ).then(function(){\n",
       "                            \n",
       "var gd = document.getElementById('ca3ce643-4aa3-40d0-9bee-0c0a6a70acd2');\n",
       "var x = new MutationObserver(function (mutations, observer) {{\n",
       "        var display = window.getComputedStyle(gd).display;\n",
       "        if (!display || display === 'none') {{\n",
       "            console.log([gd, 'removed!']);\n",
       "            Plotly.purge(gd);\n",
       "            observer.disconnect();\n",
       "        }}\n",
       "}});\n",
       "\n",
       "// Listen for the removal of the full notebook cells\n",
       "var notebookContainer = gd.closest('#notebook-container');\n",
       "if (notebookContainer) {{\n",
       "    x.observe(notebookContainer, {childList: true});\n",
       "}}\n",
       "\n",
       "// Listen for the clearing of the current output cell\n",
       "var outputEl = gd.closest('.output');\n",
       "if (outputEl) {{\n",
       "    x.observe(outputEl, {childList: true});\n",
       "}}\n",
       "\n",
       "                        })                };                });            </script>        </div>"
      ]
     },
     "metadata": {},
     "output_type": "display_data"
    }
   ],
   "source": [
    "px.scatter(suspect_df, x=suspect_df.index, y='AMOUNT', color='category', size='AMOUNT', hover_data=['Name', 'category'], labels = {'x' : 'DATE', 'y' : 'AMOUNT'}, title='Early Hour Transactions')\n"
   ]
  },
  {
   "cell_type": "markdown",
   "id": "b3409505",
   "metadata": {},
   "source": [
    "Data Analysis Questions 1\n",
    "\n",
    "Use hvPlot to create a line plot showing a time series from the transactions along all the year for card holders 2 and 18. In order to contrast the patterns of both card holders, create a line plot containing both lines. What difference do you observe between the consumption patterns? Does the difference could be a fraudulent transaction? Explain your rationale"
   ]
  },
  {
   "cell_type": "code",
   "execution_count": 17,
   "id": "a3a03d7d",
   "metadata": {},
   "outputs": [
    {
     "data": {
      "text/plain": [
       "<pandas.core.groupby.generic.DataFrameGroupBy object at 0x7feefbfa4970>"
      ]
     },
     "execution_count": 17,
     "metadata": {},
     "output_type": "execute_result"
    }
   ],
   "source": [
    "# loading data for card holder 2 and 18 from the database\n",
    "query = f\"\"\"\n",
    "SELECT a.ID, a.Name, b.Card, c.DATE, c.AMOUNT, e.NAME as 'category'\n",
    "FROM CardHolder a, CreditCard b, Transaction c, Merchant d, MerchantCategory e\n",
    "WHERE a.ID = b.IDCardHolder AND b.Card = c.CARD AND c.IDMerchant = d.ID AND d.IDMerchantCategory = e.ID\n",
    "\"\"\"\n",
    "transaction_df = execute_query(query)\n",
    "transaction_df.head()\n",
    "\n",
    "data_by_id = transaction_df.groupby('ID')\n",
    "data_by_id\n"
   ]
  },
  {
   "cell_type": "code",
   "execution_count": 18,
   "id": "bb36ae29",
   "metadata": {},
   "outputs": [
    {
     "data": {},
     "metadata": {},
     "output_type": "display_data"
    },
    {
     "data": {
      "application/vnd.holoviews_exec.v0+json": "",
      "text/html": [
       "<div id='p1950'>\n",
       "  <div id=\"fac12fd3-52df-47bc-b1a4-dd1f96239d6e\" data-root-id=\"p1950\" style=\"display: contents;\"></div>\n",
       "</div>\n",
       "<script type=\"application/javascript\">(function(root) {\n",
       "  var docs_json = {\"afd67687-e923-4e34-be62-4e3e79e8fd04\":{\"version\":\"3.1.1\",\"title\":\"Bokeh Application\",\"defs\":[{\"type\":\"model\",\"name\":\"ReactiveHTML1\"},{\"type\":\"model\",\"name\":\"FlexBox1\",\"properties\":[{\"name\":\"align_content\",\"kind\":\"Any\",\"default\":\"flex-start\"},{\"name\":\"align_items\",\"kind\":\"Any\",\"default\":\"flex-start\"},{\"name\":\"flex_direction\",\"kind\":\"Any\",\"default\":\"row\"},{\"name\":\"flex_wrap\",\"kind\":\"Any\",\"default\":\"wrap\"},{\"name\":\"justify_content\",\"kind\":\"Any\",\"default\":\"flex-start\"}]},{\"type\":\"model\",\"name\":\"FloatPanel1\",\"properties\":[{\"name\":\"config\",\"kind\":\"Any\",\"default\":{\"type\":\"map\"}},{\"name\":\"contained\",\"kind\":\"Any\",\"default\":true},{\"name\":\"position\",\"kind\":\"Any\",\"default\":\"right-top\"},{\"name\":\"offsetx\",\"kind\":\"Any\",\"default\":null},{\"name\":\"offsety\",\"kind\":\"Any\",\"default\":null},{\"name\":\"theme\",\"kind\":\"Any\",\"default\":\"primary\"},{\"name\":\"status\",\"kind\":\"Any\",\"default\":\"normalized\"}]},{\"type\":\"model\",\"name\":\"GridStack1\",\"properties\":[{\"name\":\"mode\",\"kind\":\"Any\",\"default\":\"warn\"},{\"name\":\"ncols\",\"kind\":\"Any\",\"default\":null},{\"name\":\"nrows\",\"kind\":\"Any\",\"default\":null},{\"name\":\"allow_resize\",\"kind\":\"Any\",\"default\":true},{\"name\":\"allow_drag\",\"kind\":\"Any\",\"default\":true},{\"name\":\"state\",\"kind\":\"Any\",\"default\":[]}]},{\"type\":\"model\",\"name\":\"drag1\",\"properties\":[{\"name\":\"slider_width\",\"kind\":\"Any\",\"default\":5},{\"name\":\"slider_color\",\"kind\":\"Any\",\"default\":\"black\"},{\"name\":\"value\",\"kind\":\"Any\",\"default\":50}]},{\"type\":\"model\",\"name\":\"click1\",\"properties\":[{\"name\":\"terminal_output\",\"kind\":\"Any\",\"default\":\"\"},{\"name\":\"debug_name\",\"kind\":\"Any\",\"default\":\"\"},{\"name\":\"clears\",\"kind\":\"Any\",\"default\":0}]},{\"type\":\"model\",\"name\":\"FastWrapper1\",\"properties\":[{\"name\":\"object\",\"kind\":\"Any\",\"default\":null},{\"name\":\"style\",\"kind\":\"Any\",\"default\":null}]},{\"type\":\"model\",\"name\":\"NotificationAreaBase1\",\"properties\":[{\"name\":\"js_events\",\"kind\":\"Any\",\"default\":{\"type\":\"map\"}},{\"name\":\"position\",\"kind\":\"Any\",\"default\":\"bottom-right\"},{\"name\":\"_clear\",\"kind\":\"Any\",\"default\":0}]},{\"type\":\"model\",\"name\":\"NotificationArea1\",\"properties\":[{\"name\":\"js_events\",\"kind\":\"Any\",\"default\":{\"type\":\"map\"}},{\"name\":\"notifications\",\"kind\":\"Any\",\"default\":[]},{\"name\":\"position\",\"kind\":\"Any\",\"default\":\"bottom-right\"},{\"name\":\"_clear\",\"kind\":\"Any\",\"default\":0},{\"name\":\"types\",\"kind\":\"Any\",\"default\":[{\"type\":\"map\",\"entries\":[[\"type\",\"warning\"],[\"background\",\"#ffc107\"],[\"icon\",{\"type\":\"map\",\"entries\":[[\"className\",\"fas fa-exclamation-triangle\"],[\"tagName\",\"i\"],[\"color\",\"white\"]]}]]},{\"type\":\"map\",\"entries\":[[\"type\",\"info\"],[\"background\",\"#007bff\"],[\"icon\",{\"type\":\"map\",\"entries\":[[\"className\",\"fas fa-info-circle\"],[\"tagName\",\"i\"],[\"color\",\"white\"]]}]]}]}]},{\"type\":\"model\",\"name\":\"Notification\",\"properties\":[{\"name\":\"background\",\"kind\":\"Any\",\"default\":null},{\"name\":\"duration\",\"kind\":\"Any\",\"default\":3000},{\"name\":\"icon\",\"kind\":\"Any\",\"default\":null},{\"name\":\"message\",\"kind\":\"Any\",\"default\":\"\"},{\"name\":\"notification_type\",\"kind\":\"Any\",\"default\":null},{\"name\":\"_destroyed\",\"kind\":\"Any\",\"default\":false}]},{\"type\":\"model\",\"name\":\"TemplateActions1\",\"properties\":[{\"name\":\"open_modal\",\"kind\":\"Any\",\"default\":0},{\"name\":\"close_modal\",\"kind\":\"Any\",\"default\":0}]},{\"type\":\"model\",\"name\":\"BootstrapTemplateActions1\",\"properties\":[{\"name\":\"open_modal\",\"kind\":\"Any\",\"default\":0},{\"name\":\"close_modal\",\"kind\":\"Any\",\"default\":0}]},{\"type\":\"model\",\"name\":\"MaterialTemplateActions1\",\"properties\":[{\"name\":\"open_modal\",\"kind\":\"Any\",\"default\":0},{\"name\":\"close_modal\",\"kind\":\"Any\",\"default\":0}]}],\"roots\":[{\"type\":\"object\",\"name\":\"Row\",\"id\":\"p1950\",\"attributes\":{\"name\":\"Row01246\",\"tags\":[\"embedded\"],\"stylesheets\":[\"\\n:host(.pn-loading.pn-arc):before, .pn-loading.pn-arc:before {\\n  background-image: url(\\\"data:image/svg+xml;base64,PHN2ZyB4bWxucz0iaHR0cDovL3d3dy53My5vcmcvMjAwMC9zdmciIHN0eWxlPSJtYXJnaW46IGF1dG87IGJhY2tncm91bmQ6IG5vbmU7IGRpc3BsYXk6IGJsb2NrOyBzaGFwZS1yZW5kZXJpbmc6IGF1dG87IiB2aWV3Qm94PSIwIDAgMTAwIDEwMCIgcHJlc2VydmVBc3BlY3RSYXRpbz0ieE1pZFlNaWQiPiAgPGNpcmNsZSBjeD0iNTAiIGN5PSI1MCIgZmlsbD0ibm9uZSIgc3Ryb2tlPSIjYzNjM2MzIiBzdHJva2Utd2lkdGg9IjEwIiByPSIzNSIgc3Ryb2tlLWRhc2hhcnJheT0iMTY0LjkzMzYxNDMxMzQ2NDE1IDU2Ljk3Nzg3MTQzNzgyMTM4Ij4gICAgPGFuaW1hdGVUcmFuc2Zvcm0gYXR0cmlidXRlTmFtZT0idHJhbnNmb3JtIiB0eXBlPSJyb3RhdGUiIHJlcGVhdENvdW50PSJpbmRlZmluaXRlIiBkdXI9IjFzIiB2YWx1ZXM9IjAgNTAgNTA7MzYwIDUwIDUwIiBrZXlUaW1lcz0iMDsxIj48L2FuaW1hdGVUcmFuc2Zvcm0+ICA8L2NpcmNsZT48L3N2Zz4=\\\");\\n  background-size: auto calc(min(50%, 400px));\\n}\",{\"type\":\"object\",\"name\":\"ImportedStyleSheet\",\"id\":\"p1953\",\"attributes\":{\"url\":\"https://cdn.holoviz.org/panel/1.2.3/dist/css/loading.css\"}},{\"type\":\"object\",\"name\":\"ImportedStyleSheet\",\"id\":\"p2114\",\"attributes\":{\"url\":\"https://cdn.holoviz.org/panel/1.2.3/dist/css/listpanel.css\"}},{\"type\":\"object\",\"name\":\"ImportedStyleSheet\",\"id\":\"p1951\",\"attributes\":{\"url\":\"https://cdn.holoviz.org/panel/1.2.3/dist/bundled/theme/default.css\"}},{\"type\":\"object\",\"name\":\"ImportedStyleSheet\",\"id\":\"p1952\",\"attributes\":{\"url\":\"https://cdn.holoviz.org/panel/1.2.3/dist/bundled/theme/native.css\"}}],\"min_width\":700,\"margin\":0,\"sizing_mode\":\"stretch_width\",\"align\":\"start\",\"children\":[{\"type\":\"object\",\"name\":\"Spacer\",\"id\":\"p1954\",\"attributes\":{\"name\":\"HSpacer01257\",\"stylesheets\":[\"\\n:host(.pn-loading.pn-arc):before, .pn-loading.pn-arc:before {\\n  background-image: url(\\\"data:image/svg+xml;base64,PHN2ZyB4bWxucz0iaHR0cDovL3d3dy53My5vcmcvMjAwMC9zdmciIHN0eWxlPSJtYXJnaW46IGF1dG87IGJhY2tncm91bmQ6IG5vbmU7IGRpc3BsYXk6IGJsb2NrOyBzaGFwZS1yZW5kZXJpbmc6IGF1dG87IiB2aWV3Qm94PSIwIDAgMTAwIDEwMCIgcHJlc2VydmVBc3BlY3RSYXRpbz0ieE1pZFlNaWQiPiAgPGNpcmNsZSBjeD0iNTAiIGN5PSI1MCIgZmlsbD0ibm9uZSIgc3Ryb2tlPSIjYzNjM2MzIiBzdHJva2Utd2lkdGg9IjEwIiByPSIzNSIgc3Ryb2tlLWRhc2hhcnJheT0iMTY0LjkzMzYxNDMxMzQ2NDE1IDU2Ljk3Nzg3MTQzNzgyMTM4Ij4gICAgPGFuaW1hdGVUcmFuc2Zvcm0gYXR0cmlidXRlTmFtZT0idHJhbnNmb3JtIiB0eXBlPSJyb3RhdGUiIHJlcGVhdENvdW50PSJpbmRlZmluaXRlIiBkdXI9IjFzIiB2YWx1ZXM9IjAgNTAgNTA7MzYwIDUwIDUwIiBrZXlUaW1lcz0iMDsxIj48L2FuaW1hdGVUcmFuc2Zvcm0+ICA8L2NpcmNsZT48L3N2Zz4=\\\");\\n  background-size: auto calc(min(50%, 400px));\\n}\",{\"id\":\"p1953\"},{\"id\":\"p1951\"},{\"id\":\"p1952\"}],\"margin\":0,\"sizing_mode\":\"stretch_width\",\"align\":\"start\"}},{\"type\":\"object\",\"name\":\"Figure\",\"id\":\"p1960\",\"attributes\":{\"width\":700,\"height\":300,\"margin\":[5,10],\"sizing_mode\":\"fixed\",\"align\":\"start\",\"x_range\":{\"type\":\"object\",\"name\":\"Range1d\",\"id\":\"p1955\",\"attributes\":{\"tags\":[[[\"DATE\",\"DATE\",null]],[]],\"start\":1515205001000.0,\"end\":1546011055000.0,\"reset_start\":1515205001000.0,\"reset_end\":1546011055000.0}},\"y_range\":{\"type\":\"object\",\"name\":\"Range1d\",\"id\":\"p1956\",\"attributes\":{\"tags\":[[[\"AMOUNT\",\"AMOUNT\",null]],{\"type\":\"map\",\"entries\":[[\"invert_yaxis\",false],[\"autorange\",false]]}],\"start\":-1.1810000000000003,\"end\":21.391000000000002,\"reset_start\":-1.1810000000000003,\"reset_end\":21.391000000000002}},\"x_scale\":{\"type\":\"object\",\"name\":\"LinearScale\",\"id\":\"p1972\"},\"y_scale\":{\"type\":\"object\",\"name\":\"LinearScale\",\"id\":\"p1973\"},\"title\":{\"type\":\"object\",\"name\":\"Title\",\"id\":\"p1963\",\"attributes\":{\"text\":\"Transactions by Id Holder 2\",\"text_color\":\"black\",\"text_font_size\":\"12pt\"}},\"renderers\":[{\"type\":\"object\",\"name\":\"GlyphRenderer\",\"id\":\"p2048\",\"attributes\":{\"data_source\":{\"type\":\"object\",\"name\":\"ColumnDataSource\",\"id\":\"p2038\",\"attributes\":{\"selected\":{\"type\":\"object\",\"name\":\"Selection\",\"id\":\"p2040\",\"attributes\":{\"indices\":[],\"line_indices\":[]}},\"selection_policy\":{\"type\":\"object\",\"name\":\"UnionRenderers\",\"id\":\"p2039\"},\"data\":{\"type\":\"map\",\"entries\":[[\"DATE\",{\"type\":\"ndarray\",\"array\":{\"type\":\"bytes\",\"data\":\"AIDyF5QMdkIAAJgzngx2QgCAK8QSDXZCAAA8nfgNdkIAgAmK2g92QgCA+dEAEXZCAIAF5iASdkIAgAPaIxN2QgCA04XNFXZCAAA1Qj0XdkIAgBx8VRd2QgCAjUMsHHZCAACI9/wcdkIAAILzZR12QgCAM1RtH3ZCAIBgiZcfdkIAgCrD8SB2QgCABIwXIXZCAACViEYhdkIAAN+0iSF2QgAAGUaGInZCAADQdqcjdkIAgLD3HyR2QgCAS4ZGJHZCAACtNdMkdkIAAMqfNSd2QgCA7/UQKHZCAIANrw8qdkIAgGlnUCp2QgAANqH/K3ZCAIAAuRQtdkIAAIQxxS12QgCAGQMrMXZCAACvqNMxdkIAAFFILDN2QgCAlSFcM3ZCAADKsHY0dkIAABIGTDV2QgCA3qZeNXZCAABu2p84dkIAACEGPjl2QgCAEwtcOnZCAABLWaA7dkIAgH7asTt2QgAATDIgPHZCAADncPo8dkIAACo0Zz12QgCApdnhP3ZCAAC/rytAdkIAgCB2RkF2QgCAuvBeQXZCAIB2GkBDdkIAgAmCPkV2QgAAUo+BRXZCAAAP3SBGdkIAADJQt0Z2QgCAhqrYRnZCAIC02FNHdkIAAGP4pUd2QgCAiuYfTHZCAACCPu9NdkIAgNeTqFB2QgCA+3EAUXZCAACy2oZTdkIAAA96G1R2QgCAX0IJVXZCAACjoEpWdkIAAMorTFd2QgAAr1ZQV3ZCAAA4kD1cdkIAAC81uV12QgAAY9jNXXZCAIDjyDZedkIAABRohl92QgAA0I+dX3ZCAACqnAtgdkIAAFE462B2QgAAvPtCYnZCAICZv2FjdkIAgPudV2R2QgAAyibkZHZCAADLzCdmdkIAgLUVqmd2QgAAvxJYanZCAICyE4hrdkIAAEjoPWx2QgCAkctFbHZCAAAzOmVsdkIAgCPUA252QgAAUvIqcHZCAAB55llxdkIAAMLvNHZ2QgCAYm3SdnZCAACLssl4dkIAgA2mY3p2QgAApeyCenZCAIAqLHR7dkIAgBgEhH12QgCAOQlXf3ZC\"},\"shape\":[99],\"dtype\":\"float64\",\"order\":\"little\"}],[\"AMOUNT\",{\"type\":\"ndarray\",\"array\":{\"type\":\"bytes\",\"data\":\"SOF6FK5H9T+kcD0K16MlQArXo3A9SjFAUrgehevRJUCkcD0K16MxQClcj8L1KCdAcT0K16PwJEBI4XoUrscmQI/C9Shcj/Y/UrgehetRMkBI4XoUrscuQNejcD0K1xtAKVyPwvUo8D+F61G4HoUyQI/C9ShcDzFAZmZmZmZmEECPwvUoXA8rQIXrUbgehRBAKVyPwvUoJEBSuB6F61EOQHsUrkfhei5AcT0K16NwJkDNzMzMzEwkQD0K16NwPfo/SOF6FK5HG0AfhetRuJ4yQEjhehSuR/E/AAAAAAAAGkCF61G4HoUmQOxRuB6FayRAhetRuB6FJEAfhetRuJ4kQGZmZmZmZuY/MzMzMzMzGkC4HoXrUTgoQFK4HoXr0SVAXI/C9ShcC0BmZmZmZuYyQHsUrkfhegpACtejcD0K8z8pXI/C9Sj8P+xRuB6F6y9Aj8L1KFwPKkB7FK5H4XosQGZmZmZm5i9A9ihcj8L1MEDNzMzMzEwlQIXrUbgehRRASOF6FK5HKUC4HoXrUbj6PwAAAAAAQDFA16NwPQrXE0CuR+F6FC4kQIXrUbgehSRAH4XrUbgeE0BxPQrXo3ALQD0K16Nw/TBApHA9CtejHUAK16NwPQoJQClcj8L1qCRAKVyPwvUoMUBcj8L1KFwQQM3MzMzMjDBAj8L1KFyPE0AUrkfhepQkQMP1KFyPgjNAH4XrUbgeJEDsUbgehesFQPYoXI/C9SJAmpmZmZmZEEDsUbgehWsuQM3MzMzMzBJAuB6F61G4MUBmZmZmZmYIQEjhehSuR/k/CtejcD0KJ0Bcj8L1KFwPQDMzMzMzsyZAuB6F61G48j8K16NwPQokQFyPwvUoXAdA16NwPQpXJEAfhetRuB4qQNejcD0K1zBAH4XrUbgeB0BmZmZmZuYkQKRwPQrXozBAexSuR+F6F0BSuB6F69EmQAAAAAAAAAJAZmZmZmZmMEApXI/C9SgkQClcj8L1KBFASOF6FK7HKEBcj8L1KFwzQB+F61G4HiRAw/UoXI/CJkBmZmZmZmYkQI/C9ShcDyZA\"},\"shape\":[99],\"dtype\":\"float64\",\"order\":\"little\"}]]}}},\"view\":{\"type\":\"object\",\"name\":\"CDSView\",\"id\":\"p2049\",\"attributes\":{\"filter\":{\"type\":\"object\",\"name\":\"AllIndices\",\"id\":\"p2050\"}}},\"glyph\":{\"type\":\"object\",\"name\":\"Line\",\"id\":\"p2045\",\"attributes\":{\"tags\":[\"apply_ranges\"],\"x\":{\"type\":\"field\",\"field\":\"DATE\"},\"y\":{\"type\":\"field\",\"field\":\"AMOUNT\"},\"line_color\":\"#30a2da\",\"line_width\":2}},\"selection_glyph\":{\"type\":\"object\",\"name\":\"Line\",\"id\":\"p2051\",\"attributes\":{\"tags\":[\"apply_ranges\"],\"x\":{\"type\":\"field\",\"field\":\"DATE\"},\"y\":{\"type\":\"field\",\"field\":\"AMOUNT\"},\"line_color\":\"#30a2da\",\"line_width\":2}},\"nonselection_glyph\":{\"type\":\"object\",\"name\":\"Line\",\"id\":\"p2046\",\"attributes\":{\"tags\":[\"apply_ranges\"],\"x\":{\"type\":\"field\",\"field\":\"DATE\"},\"y\":{\"type\":\"field\",\"field\":\"AMOUNT\"},\"line_color\":\"#30a2da\",\"line_alpha\":0.1,\"line_width\":2}},\"muted_glyph\":{\"type\":\"object\",\"name\":\"Line\",\"id\":\"p2047\",\"attributes\":{\"tags\":[\"apply_ranges\"],\"x\":{\"type\":\"field\",\"field\":\"DATE\"},\"y\":{\"type\":\"field\",\"field\":\"AMOUNT\"},\"line_color\":\"#30a2da\",\"line_alpha\":0.2,\"line_width\":2}}}}],\"toolbar\":{\"type\":\"object\",\"name\":\"Toolbar\",\"id\":\"p1967\",\"attributes\":{\"tools\":[{\"type\":\"object\",\"name\":\"HoverTool\",\"id\":\"p1959\",\"attributes\":{\"tags\":[\"hv_created\"],\"renderers\":[{\"id\":\"p2048\"}],\"tooltips\":[[\"DATE\",\"@{DATE}{%F %T}\"],[\"AMOUNT\",\"@{AMOUNT}\"]],\"formatters\":{\"type\":\"map\",\"entries\":[[\"@{DATE}\",\"datetime\"]]}}},{\"type\":\"object\",\"name\":\"SaveTool\",\"id\":\"p2024\"},{\"type\":\"object\",\"name\":\"PanTool\",\"id\":\"p2025\"},{\"type\":\"object\",\"name\":\"WheelZoomTool\",\"id\":\"p2026\"},{\"type\":\"object\",\"name\":\"BoxZoomTool\",\"id\":\"p2027\",\"attributes\":{\"overlay\":{\"type\":\"object\",\"name\":\"BoxAnnotation\",\"id\":\"p2028\",\"attributes\":{\"syncable\":false,\"level\":\"overlay\",\"visible\":false,\"left_units\":\"canvas\",\"right_units\":\"canvas\",\"bottom_units\":\"canvas\",\"top_units\":\"canvas\",\"line_color\":\"black\",\"line_alpha\":1.0,\"line_width\":2,\"line_dash\":[4,4],\"fill_color\":\"lightgrey\",\"fill_alpha\":0.5}}}},{\"type\":\"object\",\"name\":\"ResetTool\",\"id\":\"p2029\"}],\"active_drag\":{\"id\":\"p2025\"},\"active_scroll\":{\"id\":\"p2026\"}}},\"left\":[{\"type\":\"object\",\"name\":\"LinearAxis\",\"id\":\"p2017\",\"attributes\":{\"ticker\":{\"type\":\"object\",\"name\":\"BasicTicker\",\"id\":\"p2019\",\"attributes\":{\"mantissas\":[1,2,5]}},\"formatter\":{\"type\":\"object\",\"name\":\"BasicTickFormatter\",\"id\":\"p2020\"},\"axis_label\":\"AMOUNT\",\"major_label_policy\":{\"type\":\"object\",\"name\":\"AllLabels\",\"id\":\"p2018\"}}}],\"below\":[{\"type\":\"object\",\"name\":\"DatetimeAxis\",\"id\":\"p1974\",\"attributes\":{\"ticker\":{\"type\":\"object\",\"name\":\"DatetimeTicker\",\"id\":\"p1976\",\"attributes\":{\"num_minor_ticks\":5,\"tickers\":[{\"type\":\"object\",\"name\":\"AdaptiveTicker\",\"id\":\"p1977\",\"attributes\":{\"num_minor_ticks\":0,\"mantissas\":[1,2,5],\"max_interval\":500.0}},{\"type\":\"object\",\"name\":\"AdaptiveTicker\",\"id\":\"p1978\",\"attributes\":{\"num_minor_ticks\":0,\"base\":60,\"mantissas\":[1,2,5,10,15,20,30],\"min_interval\":1000.0,\"max_interval\":1800000.0}},{\"type\":\"object\",\"name\":\"AdaptiveTicker\",\"id\":\"p1979\",\"attributes\":{\"num_minor_ticks\":0,\"base\":24,\"mantissas\":[1,2,4,6,8,12],\"min_interval\":3600000.0,\"max_interval\":43200000.0}},{\"type\":\"object\",\"name\":\"DaysTicker\",\"id\":\"p1980\",\"attributes\":{\"days\":[1,2,3,4,5,6,7,8,9,10,11,12,13,14,15,16,17,18,19,20,21,22,23,24,25,26,27,28,29,30,31]}},{\"type\":\"object\",\"name\":\"DaysTicker\",\"id\":\"p1981\",\"attributes\":{\"days\":[1,4,7,10,13,16,19,22,25,28]}},{\"type\":\"object\",\"name\":\"DaysTicker\",\"id\":\"p1982\",\"attributes\":{\"days\":[1,8,15,22]}},{\"type\":\"object\",\"name\":\"DaysTicker\",\"id\":\"p1983\",\"attributes\":{\"days\":[1,15]}},{\"type\":\"object\",\"name\":\"MonthsTicker\",\"id\":\"p1984\",\"attributes\":{\"months\":[0,1,2,3,4,5,6,7,8,9,10,11]}},{\"type\":\"object\",\"name\":\"MonthsTicker\",\"id\":\"p1985\",\"attributes\":{\"months\":[0,2,4,6,8,10]}},{\"type\":\"object\",\"name\":\"MonthsTicker\",\"id\":\"p1986\",\"attributes\":{\"months\":[0,4,8]}},{\"type\":\"object\",\"name\":\"MonthsTicker\",\"id\":\"p1987\",\"attributes\":{\"months\":[0,6]}},{\"type\":\"object\",\"name\":\"YearsTicker\",\"id\":\"p1988\"}]}},\"formatter\":{\"type\":\"object\",\"name\":\"DatetimeTickFormatter\",\"id\":\"p1989\"},\"axis_label\":\"DATE\",\"major_label_policy\":{\"type\":\"object\",\"name\":\"AllLabels\",\"id\":\"p1975\"}}}],\"center\":[{\"type\":\"object\",\"name\":\"Grid\",\"id\":\"p2016\",\"attributes\":{\"axis\":{\"id\":\"p1974\"},\"grid_line_color\":null}},{\"type\":\"object\",\"name\":\"Grid\",\"id\":\"p2023\",\"attributes\":{\"dimension\":1,\"axis\":{\"id\":\"p2017\"},\"grid_line_color\":null}}],\"min_border_top\":10,\"min_border_bottom\":10,\"min_border_left\":10,\"min_border_right\":10,\"output_backend\":\"webgl\"}},{\"type\":\"object\",\"name\":\"Spacer\",\"id\":\"p2112\",\"attributes\":{\"name\":\"HSpacer01260\",\"stylesheets\":[\"\\n:host(.pn-loading.pn-arc):before, .pn-loading.pn-arc:before {\\n  background-image: url(\\\"data:image/svg+xml;base64,PHN2ZyB4bWxucz0iaHR0cDovL3d3dy53My5vcmcvMjAwMC9zdmciIHN0eWxlPSJtYXJnaW46IGF1dG87IGJhY2tncm91bmQ6IG5vbmU7IGRpc3BsYXk6IGJsb2NrOyBzaGFwZS1yZW5kZXJpbmc6IGF1dG87IiB2aWV3Qm94PSIwIDAgMTAwIDEwMCIgcHJlc2VydmVBc3BlY3RSYXRpbz0ieE1pZFlNaWQiPiAgPGNpcmNsZSBjeD0iNTAiIGN5PSI1MCIgZmlsbD0ibm9uZSIgc3Ryb2tlPSIjYzNjM2MzIiBzdHJva2Utd2lkdGg9IjEwIiByPSIzNSIgc3Ryb2tlLWRhc2hhcnJheT0iMTY0LjkzMzYxNDMxMzQ2NDE1IDU2Ljk3Nzg3MTQzNzgyMTM4Ij4gICAgPGFuaW1hdGVUcmFuc2Zvcm0gYXR0cmlidXRlTmFtZT0idHJhbnNmb3JtIiB0eXBlPSJyb3RhdGUiIHJlcGVhdENvdW50PSJpbmRlZmluaXRlIiBkdXI9IjFzIiB2YWx1ZXM9IjAgNTAgNTA7MzYwIDUwIDUwIiBrZXlUaW1lcz0iMDsxIj48L2FuaW1hdGVUcmFuc2Zvcm0+ICA8L2NpcmNsZT48L3N2Zz4=\\\");\\n  background-size: auto calc(min(50%, 400px));\\n}\",{\"id\":\"p1953\"},{\"id\":\"p1951\"},{\"id\":\"p1952\"}],\"margin\":0,\"sizing_mode\":\"stretch_width\",\"align\":\"start\"}}]}}],\"callbacks\":{\"type\":\"map\"}}};\n",
       "  var render_items = [{\"docid\":\"afd67687-e923-4e34-be62-4e3e79e8fd04\",\"roots\":{\"p1950\":\"fac12fd3-52df-47bc-b1a4-dd1f96239d6e\"},\"root_ids\":[\"p1950\"]}];\n",
       "  var docs = Object.values(docs_json)\n",
       "  if (!docs) {\n",
       "    return\n",
       "  }\n",
       "  const py_version = docs[0].version.replace('rc', '-rc.').replace('.dev', '-dev.')\n",
       "  const is_dev = py_version.indexOf(\"+\") !== -1 || py_version.indexOf(\"-\") !== -1\n",
       "  function embed_document(root) {\n",
       "    var Bokeh = get_bokeh(root)\n",
       "    Bokeh.embed.embed_items_notebook(docs_json, render_items);\n",
       "    for (const render_item of render_items) {\n",
       "      for (const root_id of render_item.root_ids) {\n",
       "\tconst id_el = document.getElementById(root_id)\n",
       "\tif (id_el.children.length && (id_el.children[0].className === 'bk-root')) {\n",
       "\t  const root_el = id_el.children[0]\n",
       "\t  root_el.id = root_el.id + '-rendered'\n",
       "\t}\n",
       "      }\n",
       "    }\n",
       "  }\n",
       "  function get_bokeh(root) {\n",
       "    if (root.Bokeh === undefined) {\n",
       "      return null\n",
       "    } else if (root.Bokeh.version !== py_version && !is_dev) {\n",
       "      if (root.Bokeh.versions === undefined || !root.Bokeh.versions.has(py_version)) {\n",
       "\treturn null\n",
       "      }\n",
       "      return root.Bokeh.versions.get(py_version);\n",
       "    } else if (root.Bokeh.version === py_version) {\n",
       "      return root.Bokeh\n",
       "    }\n",
       "    return null\n",
       "  }\n",
       "  function is_loaded(root) {\n",
       "    var Bokeh = get_bokeh(root)\n",
       "    return (Bokeh != null && Bokeh.Panel !== undefined)\n",
       "  }\n",
       "  if (is_loaded(root)) {\n",
       "    embed_document(root);\n",
       "  } else {\n",
       "    var attempts = 0;\n",
       "    var timer = setInterval(function(root) {\n",
       "      if (is_loaded(root)) {\n",
       "        clearInterval(timer);\n",
       "        embed_document(root);\n",
       "      } else if (document.readyState == \"complete\") {\n",
       "        attempts++;\n",
       "        if (attempts > 200) {\n",
       "          clearInterval(timer);\n",
       "\t  var Bokeh = get_bokeh(root)\n",
       "\t  if (Bokeh == null || Bokeh.Panel == null) {\n",
       "            console.warn(\"Panel: ERROR: Unable to run Panel code because Bokeh or Panel library is missing\");\n",
       "\t  } else {\n",
       "\t    console.warn(\"Panel: WARNING: Attempting to render but not all required libraries could be resolved.\")\n",
       "\t    embed_document(root)\n",
       "\t  }\n",
       "        }\n",
       "      }\n",
       "    }, 25, root)\n",
       "  }\n",
       "})(window);</script>"
      ],
      "text/plain": [
       ":Curve   [DATE]   (AMOUNT)"
      ]
     },
     "execution_count": 18,
     "metadata": {
      "application/vnd.holoviews_exec.v0+json": {
       "id": "p1950"
      }
     },
     "output_type": "execute_result"
    }
   ],
   "source": [
    "# plot for cardholder 2\n",
    "\n",
    "cardholder_2 = data_by_id.get_group(2)['AMOUNT'].hvplot(ylabel='AMOUNT', xlabel='DATE', title=\"Transactions by Id Holder 2\")\n",
    "cardholder_2"
   ]
  },
  {
   "cell_type": "code",
   "execution_count": 19,
   "id": "c2d90a72",
   "metadata": {},
   "outputs": [
    {
     "data": {},
     "metadata": {},
     "output_type": "display_data"
    },
    {
     "data": {
      "application/vnd.holoviews_exec.v0+json": "",
      "text/html": [
       "<div id='p2266'>\n",
       "  <div id=\"b894e832-30f0-407b-9981-e2c0b4022b83\" data-root-id=\"p2266\" style=\"display: contents;\"></div>\n",
       "</div>\n",
       "<script type=\"application/javascript\">(function(root) {\n",
       "  var docs_json = {\"50734265-d690-4d49-abef-488469e469c1\":{\"version\":\"3.1.1\",\"title\":\"Bokeh Application\",\"defs\":[{\"type\":\"model\",\"name\":\"ReactiveHTML1\"},{\"type\":\"model\",\"name\":\"FlexBox1\",\"properties\":[{\"name\":\"align_content\",\"kind\":\"Any\",\"default\":\"flex-start\"},{\"name\":\"align_items\",\"kind\":\"Any\",\"default\":\"flex-start\"},{\"name\":\"flex_direction\",\"kind\":\"Any\",\"default\":\"row\"},{\"name\":\"flex_wrap\",\"kind\":\"Any\",\"default\":\"wrap\"},{\"name\":\"justify_content\",\"kind\":\"Any\",\"default\":\"flex-start\"}]},{\"type\":\"model\",\"name\":\"FloatPanel1\",\"properties\":[{\"name\":\"config\",\"kind\":\"Any\",\"default\":{\"type\":\"map\"}},{\"name\":\"contained\",\"kind\":\"Any\",\"default\":true},{\"name\":\"position\",\"kind\":\"Any\",\"default\":\"right-top\"},{\"name\":\"offsetx\",\"kind\":\"Any\",\"default\":null},{\"name\":\"offsety\",\"kind\":\"Any\",\"default\":null},{\"name\":\"theme\",\"kind\":\"Any\",\"default\":\"primary\"},{\"name\":\"status\",\"kind\":\"Any\",\"default\":\"normalized\"}]},{\"type\":\"model\",\"name\":\"GridStack1\",\"properties\":[{\"name\":\"mode\",\"kind\":\"Any\",\"default\":\"warn\"},{\"name\":\"ncols\",\"kind\":\"Any\",\"default\":null},{\"name\":\"nrows\",\"kind\":\"Any\",\"default\":null},{\"name\":\"allow_resize\",\"kind\":\"Any\",\"default\":true},{\"name\":\"allow_drag\",\"kind\":\"Any\",\"default\":true},{\"name\":\"state\",\"kind\":\"Any\",\"default\":[]}]},{\"type\":\"model\",\"name\":\"drag1\",\"properties\":[{\"name\":\"slider_width\",\"kind\":\"Any\",\"default\":5},{\"name\":\"slider_color\",\"kind\":\"Any\",\"default\":\"black\"},{\"name\":\"value\",\"kind\":\"Any\",\"default\":50}]},{\"type\":\"model\",\"name\":\"click1\",\"properties\":[{\"name\":\"terminal_output\",\"kind\":\"Any\",\"default\":\"\"},{\"name\":\"debug_name\",\"kind\":\"Any\",\"default\":\"\"},{\"name\":\"clears\",\"kind\":\"Any\",\"default\":0}]},{\"type\":\"model\",\"name\":\"FastWrapper1\",\"properties\":[{\"name\":\"object\",\"kind\":\"Any\",\"default\":null},{\"name\":\"style\",\"kind\":\"Any\",\"default\":null}]},{\"type\":\"model\",\"name\":\"NotificationAreaBase1\",\"properties\":[{\"name\":\"js_events\",\"kind\":\"Any\",\"default\":{\"type\":\"map\"}},{\"name\":\"position\",\"kind\":\"Any\",\"default\":\"bottom-right\"},{\"name\":\"_clear\",\"kind\":\"Any\",\"default\":0}]},{\"type\":\"model\",\"name\":\"NotificationArea1\",\"properties\":[{\"name\":\"js_events\",\"kind\":\"Any\",\"default\":{\"type\":\"map\"}},{\"name\":\"notifications\",\"kind\":\"Any\",\"default\":[]},{\"name\":\"position\",\"kind\":\"Any\",\"default\":\"bottom-right\"},{\"name\":\"_clear\",\"kind\":\"Any\",\"default\":0},{\"name\":\"types\",\"kind\":\"Any\",\"default\":[{\"type\":\"map\",\"entries\":[[\"type\",\"warning\"],[\"background\",\"#ffc107\"],[\"icon\",{\"type\":\"map\",\"entries\":[[\"className\",\"fas fa-exclamation-triangle\"],[\"tagName\",\"i\"],[\"color\",\"white\"]]}]]},{\"type\":\"map\",\"entries\":[[\"type\",\"info\"],[\"background\",\"#007bff\"],[\"icon\",{\"type\":\"map\",\"entries\":[[\"className\",\"fas fa-info-circle\"],[\"tagName\",\"i\"],[\"color\",\"white\"]]}]]}]}]},{\"type\":\"model\",\"name\":\"Notification\",\"properties\":[{\"name\":\"background\",\"kind\":\"Any\",\"default\":null},{\"name\":\"duration\",\"kind\":\"Any\",\"default\":3000},{\"name\":\"icon\",\"kind\":\"Any\",\"default\":null},{\"name\":\"message\",\"kind\":\"Any\",\"default\":\"\"},{\"name\":\"notification_type\",\"kind\":\"Any\",\"default\":null},{\"name\":\"_destroyed\",\"kind\":\"Any\",\"default\":false}]},{\"type\":\"model\",\"name\":\"TemplateActions1\",\"properties\":[{\"name\":\"open_modal\",\"kind\":\"Any\",\"default\":0},{\"name\":\"close_modal\",\"kind\":\"Any\",\"default\":0}]},{\"type\":\"model\",\"name\":\"BootstrapTemplateActions1\",\"properties\":[{\"name\":\"open_modal\",\"kind\":\"Any\",\"default\":0},{\"name\":\"close_modal\",\"kind\":\"Any\",\"default\":0}]},{\"type\":\"model\",\"name\":\"MaterialTemplateActions1\",\"properties\":[{\"name\":\"open_modal\",\"kind\":\"Any\",\"default\":0},{\"name\":\"close_modal\",\"kind\":\"Any\",\"default\":0}]}],\"roots\":[{\"type\":\"object\",\"name\":\"Row\",\"id\":\"p2266\",\"attributes\":{\"name\":\"Row01368\",\"tags\":[\"embedded\"],\"stylesheets\":[\"\\n:host(.pn-loading.pn-arc):before, .pn-loading.pn-arc:before {\\n  background-image: url(\\\"data:image/svg+xml;base64,PHN2ZyB4bWxucz0iaHR0cDovL3d3dy53My5vcmcvMjAwMC9zdmciIHN0eWxlPSJtYXJnaW46IGF1dG87IGJhY2tncm91bmQ6IG5vbmU7IGRpc3BsYXk6IGJsb2NrOyBzaGFwZS1yZW5kZXJpbmc6IGF1dG87IiB2aWV3Qm94PSIwIDAgMTAwIDEwMCIgcHJlc2VydmVBc3BlY3RSYXRpbz0ieE1pZFlNaWQiPiAgPGNpcmNsZSBjeD0iNTAiIGN5PSI1MCIgZmlsbD0ibm9uZSIgc3Ryb2tlPSIjYzNjM2MzIiBzdHJva2Utd2lkdGg9IjEwIiByPSIzNSIgc3Ryb2tlLWRhc2hhcnJheT0iMTY0LjkzMzYxNDMxMzQ2NDE1IDU2Ljk3Nzg3MTQzNzgyMTM4Ij4gICAgPGFuaW1hdGVUcmFuc2Zvcm0gYXR0cmlidXRlTmFtZT0idHJhbnNmb3JtIiB0eXBlPSJyb3RhdGUiIHJlcGVhdENvdW50PSJpbmRlZmluaXRlIiBkdXI9IjFzIiB2YWx1ZXM9IjAgNTAgNTA7MzYwIDUwIDUwIiBrZXlUaW1lcz0iMDsxIj48L2FuaW1hdGVUcmFuc2Zvcm0+ICA8L2NpcmNsZT48L3N2Zz4=\\\");\\n  background-size: auto calc(min(50%, 400px));\\n}\",{\"type\":\"object\",\"name\":\"ImportedStyleSheet\",\"id\":\"p2269\",\"attributes\":{\"url\":\"https://cdn.holoviz.org/panel/1.2.3/dist/css/loading.css\"}},{\"type\":\"object\",\"name\":\"ImportedStyleSheet\",\"id\":\"p2430\",\"attributes\":{\"url\":\"https://cdn.holoviz.org/panel/1.2.3/dist/css/listpanel.css\"}},{\"type\":\"object\",\"name\":\"ImportedStyleSheet\",\"id\":\"p2267\",\"attributes\":{\"url\":\"https://cdn.holoviz.org/panel/1.2.3/dist/bundled/theme/default.css\"}},{\"type\":\"object\",\"name\":\"ImportedStyleSheet\",\"id\":\"p2268\",\"attributes\":{\"url\":\"https://cdn.holoviz.org/panel/1.2.3/dist/bundled/theme/native.css\"}}],\"min_width\":700,\"margin\":0,\"sizing_mode\":\"stretch_width\",\"align\":\"start\",\"children\":[{\"type\":\"object\",\"name\":\"Spacer\",\"id\":\"p2270\",\"attributes\":{\"name\":\"HSpacer01379\",\"stylesheets\":[\"\\n:host(.pn-loading.pn-arc):before, .pn-loading.pn-arc:before {\\n  background-image: url(\\\"data:image/svg+xml;base64,PHN2ZyB4bWxucz0iaHR0cDovL3d3dy53My5vcmcvMjAwMC9zdmciIHN0eWxlPSJtYXJnaW46IGF1dG87IGJhY2tncm91bmQ6IG5vbmU7IGRpc3BsYXk6IGJsb2NrOyBzaGFwZS1yZW5kZXJpbmc6IGF1dG87IiB2aWV3Qm94PSIwIDAgMTAwIDEwMCIgcHJlc2VydmVBc3BlY3RSYXRpbz0ieE1pZFlNaWQiPiAgPGNpcmNsZSBjeD0iNTAiIGN5PSI1MCIgZmlsbD0ibm9uZSIgc3Ryb2tlPSIjYzNjM2MzIiBzdHJva2Utd2lkdGg9IjEwIiByPSIzNSIgc3Ryb2tlLWRhc2hhcnJheT0iMTY0LjkzMzYxNDMxMzQ2NDE1IDU2Ljk3Nzg3MTQzNzgyMTM4Ij4gICAgPGFuaW1hdGVUcmFuc2Zvcm0gYXR0cmlidXRlTmFtZT0idHJhbnNmb3JtIiB0eXBlPSJyb3RhdGUiIHJlcGVhdENvdW50PSJpbmRlZmluaXRlIiBkdXI9IjFzIiB2YWx1ZXM9IjAgNTAgNTA7MzYwIDUwIDUwIiBrZXlUaW1lcz0iMDsxIj48L2FuaW1hdGVUcmFuc2Zvcm0+ICA8L2NpcmNsZT48L3N2Zz4=\\\");\\n  background-size: auto calc(min(50%, 400px));\\n}\",{\"id\":\"p2269\"},{\"id\":\"p2267\"},{\"id\":\"p2268\"}],\"margin\":0,\"sizing_mode\":\"stretch_width\",\"align\":\"start\"}},{\"type\":\"object\",\"name\":\"Figure\",\"id\":\"p2276\",\"attributes\":{\"width\":700,\"height\":300,\"margin\":[5,10],\"sizing_mode\":\"fixed\",\"align\":\"start\",\"x_range\":{\"type\":\"object\",\"name\":\"Range1d\",\"id\":\"p2271\",\"attributes\":{\"tags\":[[[\"DATE\",\"DATE\",null]],[]],\"start\":1514848510000.0,\"end\":1546071115000.0,\"reset_start\":1514848510000.0,\"reset_end\":1546071115000.0}},\"y_range\":{\"type\":\"object\",\"name\":\"Range1d\",\"id\":\"p2272\",\"attributes\":{\"tags\":[[[\"AMOUNT\",\"AMOUNT\",null]],{\"type\":\"map\",\"entries\":[[\"invert_yaxis\",false],[\"autorange\",false]]}],\"start\":-183.163,\"end\":2022.833,\"reset_start\":-183.163,\"reset_end\":2022.833}},\"x_scale\":{\"type\":\"object\",\"name\":\"LinearScale\",\"id\":\"p2288\"},\"y_scale\":{\"type\":\"object\",\"name\":\"LinearScale\",\"id\":\"p2289\"},\"title\":{\"type\":\"object\",\"name\":\"Title\",\"id\":\"p2279\",\"attributes\":{\"text\":\"Transactions by Id Holder 18\",\"text_color\":\"black\",\"text_font_size\":\"12pt\"}},\"renderers\":[{\"type\":\"object\",\"name\":\"GlyphRenderer\",\"id\":\"p2364\",\"attributes\":{\"data_source\":{\"type\":\"object\",\"name\":\"ColumnDataSource\",\"id\":\"p2354\",\"attributes\":{\"selected\":{\"type\":\"object\",\"name\":\"Selection\",\"id\":\"p2356\",\"attributes\":{\"indices\":[],\"line_indices\":[]}},\"selection_policy\":{\"type\":\"object\",\"name\":\"UnionRenderers\",\"id\":\"p2355\"},\"data\":{\"type\":\"map\",\"entries\":[[\"DATE\",{\"type\":\"ndarray\",\"array\":{\"type\":\"bytes\",\"data\":\"AAADHkALdkIAgEEFUwx2QgAAE7riDHZCAAC8uVcNdkIAgENcdg12QgAAgpwGEHZCAIAtdDAQdkIAACtLShB2QgAAqwp0EHZCAIDs08UQdkIAAMaLdxF2QgCABdocE3ZCAACQQk8TdkIAgElT+hN2QgAAVsI6GXZCAADVqUwZdkIAgOfvgRp2QgCA/V3zGnZCAIDqDwQbdkIAAJGSoBt2QgCApfXSHnZCAIBGOMEfdkIAgB5t3B92QgAA1ccdIHZCAAAMJx4gdkIAgOXJlCB2QgCAR3MBIXZCAAAVdg8idkIAAP8czSN2QgCA1/oTJHZCAADOu9UldkIAgHuWMCd2QgCAiqSLJ3ZCAID2auUndkIAgKqAmCh2QgCA4VuQLXZCAAA9K24xdkIAAJlX3TR2QgAAHO8XNXZCAIApGBA2dkIAAD1qATd2QgAAmAV0N3ZCAIDU5Z05dkIAgAkhqzl2QgCA2kX2OXZCAIDrrTs6dkIAABbMfDp2QgAA7rE2O3ZCAACMJyc8dkIAAALnczx2QgAA3peWPHZCAADdWCE9dkIAgEaMdj52QgCAmRWLPnZCAAAzNHo/dkIAgH14FUB2QgAAUtEXQHZCAIBiliRCdkIAgEERhEJ2QgCA3P+aQnZCAIDeB+ZCdkIAgNW1J0N2QgCA23vmRHZCAIAmpDtFdkIAAJddfUV2QgAA6GMWRnZCAAC81gVHdkIAACBIIUd2QgAAItKAR3ZCAIBIR/pIdkIAgNiId0p2QgAA7vnKSnZCAIDO6tdLdkIAgH91fE12QgCAdG9fTnZCAABp5uZOdkIAAAHl8E52QgCAD+FvT3ZCAABWFW9QdkIAgF/VR1F2QgAAa5YEUnZCAADBdvpSdkIAgJpmeVN2QgAAtyp3VHZCAIDXHI9UdkIAgJqa+Vh2QgCAJIIjWXZCAAAxN6BZdkIAgO4sA1p2QgAAhrWOW3ZCAIC40VpcdkIAgAb6Zlx2QgCAX9jAXHZCAIBBzvtddkIAAAMD/F92QgAAq898YHZCAAALuvpgdkIAAJjajWF2QgAAY2rxYXZCAAC6pJZidkIAAEBNgmZ2QgAAcgOGZnZCAAAARY1ndkIAAKRwpGd2QgAAvCFmaXZCAAD2eptpdkIAgJzaKGp2QgAAYoLza3ZCAACbGMlsdkIAAE9I0Wx2QgAAIt4XbXZCAIAey5ltdkIAAHS73W12QgAAyXgGb3ZCAIDqBdJvdkIAAHZwFXB2QgCAXkVkcHZCAIB7ZQJydkIAgM4jmnN2QgAA3toadXZCAIClzDF1dkIAAFqjj3V2QgCAOgWZd3ZCAABfk3d6dkIAgIa2knt2QgAAAo/Se3ZCAAByoNN7dkIAgLcfynx2QgAAygWSfXZCAIAO2w9/dkIAAIfVP392QgCA5LVAf3ZCAIBPUJB/dkI=\"},\"shape\":[133],\"dtype\":\"float64\",\"order\":\"little\"}],[\"AMOUNT\",{\"type\":\"ndarray\",\"array\":{\"type\":\"bytes\",\"data\":\"mpmZmZmZB0DD9Shcj8L1PwAAAAAA4GVAAAAAAADQdECamZmZmRknQGZmZmZmZgRA16NwPQpXKUCF61G4HoX7P4XrUbgehQtASOF6FK7HJEBcj8L1KFwVQIXrUbgehSVAexSuR+F6F0BmZmZmZqYyQNejcD0K1wVAXI/C9ShcMUDNzMzMzEwyQDMzMzMzMyhAAAAAAAC8nEB7FK5H4XoCQHE9Ctej8DFApHA9CtejJUDXo3A9CtcpQFyPwvUoXCRAPQrXo3C9JEDNzMzMzEwoQClcj8L1KBtA7FG4HoXrJEBxPQrXo3DtP6RwPQrXIzJAmpmZmZmZM0A9CtejcD0EQKRwPQrXowhA9ihcj8L1+D8AAAAAANSQQDMzMzMzMzVAH4XrUbgeNkD2KFyPwvX8PzMzMzMzszBA16NwPQrX/z+PwvUoXI8SQMP1KFyPwglAuB6F61E4M0AzMzMzM7MkQLgehetROCRAH4XrUbgeEkBSuB6F61H8P1yPwvUo3CxAFK5H4XqUJEAAAAAAAFicQOF6FK5H4QxAuB6F61G4JEDD9Shcj0IwQClcj8L1KDBAcT0K16Nw5T+PwvUoXI8nQHE9Ctej8CRAXI/C9Shc/z9mZmZmZuYsQHsUrkfhujFAMzMzMzMzK0CF61G4HoUTQAAAAAAAQF5AcT0K16NwIkDXo3A9ChcyQClcj8L1KCZAAAAAAABAXUAAAAAAAAAGQNejcD0K1/M/KVyPwvWoJUDD9Shcj8IPQAAAAAAAcI5ASOF6FK6HMUBxPQrXo3AHQD0K16NwPfo/H4XrUbgeDUAfhetRuB4dQD0K16NwPSRAUrgeheuRMUCPwvUoXA8jQGZmZmZmZhJAuB6F61H4MUAK16NwPYoyQBSuR+F6FCRAexSuR+F6JkCF61G4HgUmQEjhehSuxyVAAAAAAACgfEDsUbgehescQI/C9ShcjyRAAAAAAABgkkAzMzMzM7MmQK5H4XoUrhJAAAAAAADANEDsUbgehesVQBSuR+F61DJASOF6FK5HDUC4HoXrUTgpQMP1KFyPwvk/ZmZmZmbmJEC4HoXrUbgkQMP1KFyPQiZAmpmZmZmZG0A9CtejcD0kQEjhehSuxyRAw/UoXI/CL0DD9Shcj8L1P3E9CtejcBZAw/UoXI9CJUCkcD0K1yMvQM3MzMzMzBpAhetRuB6FMkBI4XoUrkcnQM3MzMzMzCRAUrgehetRCEBxPQrXo3AZQAAAAAAAAPw/AAAAAACkm0AUrkfhehTmP1K4HoXrUfw/uB6F61E4MUDD9Shcj8IJQNejcD0K1/s/AAAAAAAIkkA9CtejcD0lQB+F61G4HgFA9ihcj8L1BkAUrkfhehT+P3E9CtejcBFAMzMzMzMz+z+uR+F6FK4LQMP1KFyPwilAAAAAAACAKEA=\"},\"shape\":[133],\"dtype\":\"float64\",\"order\":\"little\"}]]}}},\"view\":{\"type\":\"object\",\"name\":\"CDSView\",\"id\":\"p2365\",\"attributes\":{\"filter\":{\"type\":\"object\",\"name\":\"AllIndices\",\"id\":\"p2366\"}}},\"glyph\":{\"type\":\"object\",\"name\":\"Line\",\"id\":\"p2361\",\"attributes\":{\"tags\":[\"apply_ranges\"],\"x\":{\"type\":\"field\",\"field\":\"DATE\"},\"y\":{\"type\":\"field\",\"field\":\"AMOUNT\"},\"line_color\":\"#30a2da\",\"line_width\":2}},\"selection_glyph\":{\"type\":\"object\",\"name\":\"Line\",\"id\":\"p2367\",\"attributes\":{\"tags\":[\"apply_ranges\"],\"x\":{\"type\":\"field\",\"field\":\"DATE\"},\"y\":{\"type\":\"field\",\"field\":\"AMOUNT\"},\"line_color\":\"#30a2da\",\"line_width\":2}},\"nonselection_glyph\":{\"type\":\"object\",\"name\":\"Line\",\"id\":\"p2362\",\"attributes\":{\"tags\":[\"apply_ranges\"],\"x\":{\"type\":\"field\",\"field\":\"DATE\"},\"y\":{\"type\":\"field\",\"field\":\"AMOUNT\"},\"line_color\":\"#30a2da\",\"line_alpha\":0.1,\"line_width\":2}},\"muted_glyph\":{\"type\":\"object\",\"name\":\"Line\",\"id\":\"p2363\",\"attributes\":{\"tags\":[\"apply_ranges\"],\"x\":{\"type\":\"field\",\"field\":\"DATE\"},\"y\":{\"type\":\"field\",\"field\":\"AMOUNT\"},\"line_color\":\"#30a2da\",\"line_alpha\":0.2,\"line_width\":2}}}}],\"toolbar\":{\"type\":\"object\",\"name\":\"Toolbar\",\"id\":\"p2283\",\"attributes\":{\"tools\":[{\"type\":\"object\",\"name\":\"HoverTool\",\"id\":\"p2275\",\"attributes\":{\"tags\":[\"hv_created\"],\"renderers\":[{\"id\":\"p2364\"}],\"tooltips\":[[\"DATE\",\"@{DATE}{%F %T}\"],[\"AMOUNT\",\"@{AMOUNT}\"]],\"formatters\":{\"type\":\"map\",\"entries\":[[\"@{DATE}\",\"datetime\"]]}}},{\"type\":\"object\",\"name\":\"SaveTool\",\"id\":\"p2340\"},{\"type\":\"object\",\"name\":\"PanTool\",\"id\":\"p2341\"},{\"type\":\"object\",\"name\":\"WheelZoomTool\",\"id\":\"p2342\"},{\"type\":\"object\",\"name\":\"BoxZoomTool\",\"id\":\"p2343\",\"attributes\":{\"overlay\":{\"type\":\"object\",\"name\":\"BoxAnnotation\",\"id\":\"p2344\",\"attributes\":{\"syncable\":false,\"level\":\"overlay\",\"visible\":false,\"left_units\":\"canvas\",\"right_units\":\"canvas\",\"bottom_units\":\"canvas\",\"top_units\":\"canvas\",\"line_color\":\"black\",\"line_alpha\":1.0,\"line_width\":2,\"line_dash\":[4,4],\"fill_color\":\"lightgrey\",\"fill_alpha\":0.5}}}},{\"type\":\"object\",\"name\":\"ResetTool\",\"id\":\"p2345\"}],\"active_drag\":{\"id\":\"p2341\"},\"active_scroll\":{\"id\":\"p2342\"}}},\"left\":[{\"type\":\"object\",\"name\":\"LinearAxis\",\"id\":\"p2333\",\"attributes\":{\"ticker\":{\"type\":\"object\",\"name\":\"BasicTicker\",\"id\":\"p2335\",\"attributes\":{\"mantissas\":[1,2,5]}},\"formatter\":{\"type\":\"object\",\"name\":\"BasicTickFormatter\",\"id\":\"p2336\"},\"axis_label\":\"AMOUNT\",\"major_label_policy\":{\"type\":\"object\",\"name\":\"AllLabels\",\"id\":\"p2334\"}}}],\"below\":[{\"type\":\"object\",\"name\":\"DatetimeAxis\",\"id\":\"p2290\",\"attributes\":{\"ticker\":{\"type\":\"object\",\"name\":\"DatetimeTicker\",\"id\":\"p2292\",\"attributes\":{\"num_minor_ticks\":5,\"tickers\":[{\"type\":\"object\",\"name\":\"AdaptiveTicker\",\"id\":\"p2293\",\"attributes\":{\"num_minor_ticks\":0,\"mantissas\":[1,2,5],\"max_interval\":500.0}},{\"type\":\"object\",\"name\":\"AdaptiveTicker\",\"id\":\"p2294\",\"attributes\":{\"num_minor_ticks\":0,\"base\":60,\"mantissas\":[1,2,5,10,15,20,30],\"min_interval\":1000.0,\"max_interval\":1800000.0}},{\"type\":\"object\",\"name\":\"AdaptiveTicker\",\"id\":\"p2295\",\"attributes\":{\"num_minor_ticks\":0,\"base\":24,\"mantissas\":[1,2,4,6,8,12],\"min_interval\":3600000.0,\"max_interval\":43200000.0}},{\"type\":\"object\",\"name\":\"DaysTicker\",\"id\":\"p2296\",\"attributes\":{\"days\":[1,2,3,4,5,6,7,8,9,10,11,12,13,14,15,16,17,18,19,20,21,22,23,24,25,26,27,28,29,30,31]}},{\"type\":\"object\",\"name\":\"DaysTicker\",\"id\":\"p2297\",\"attributes\":{\"days\":[1,4,7,10,13,16,19,22,25,28]}},{\"type\":\"object\",\"name\":\"DaysTicker\",\"id\":\"p2298\",\"attributes\":{\"days\":[1,8,15,22]}},{\"type\":\"object\",\"name\":\"DaysTicker\",\"id\":\"p2299\",\"attributes\":{\"days\":[1,15]}},{\"type\":\"object\",\"name\":\"MonthsTicker\",\"id\":\"p2300\",\"attributes\":{\"months\":[0,1,2,3,4,5,6,7,8,9,10,11]}},{\"type\":\"object\",\"name\":\"MonthsTicker\",\"id\":\"p2301\",\"attributes\":{\"months\":[0,2,4,6,8,10]}},{\"type\":\"object\",\"name\":\"MonthsTicker\",\"id\":\"p2302\",\"attributes\":{\"months\":[0,4,8]}},{\"type\":\"object\",\"name\":\"MonthsTicker\",\"id\":\"p2303\",\"attributes\":{\"months\":[0,6]}},{\"type\":\"object\",\"name\":\"YearsTicker\",\"id\":\"p2304\"}]}},\"formatter\":{\"type\":\"object\",\"name\":\"DatetimeTickFormatter\",\"id\":\"p2305\"},\"axis_label\":\"DATE\",\"major_label_policy\":{\"type\":\"object\",\"name\":\"AllLabels\",\"id\":\"p2291\"}}}],\"center\":[{\"type\":\"object\",\"name\":\"Grid\",\"id\":\"p2332\",\"attributes\":{\"axis\":{\"id\":\"p2290\"},\"grid_line_color\":null}},{\"type\":\"object\",\"name\":\"Grid\",\"id\":\"p2339\",\"attributes\":{\"dimension\":1,\"axis\":{\"id\":\"p2333\"},\"grid_line_color\":null}}],\"min_border_top\":10,\"min_border_bottom\":10,\"min_border_left\":10,\"min_border_right\":10,\"output_backend\":\"webgl\"}},{\"type\":\"object\",\"name\":\"Spacer\",\"id\":\"p2428\",\"attributes\":{\"name\":\"HSpacer01382\",\"stylesheets\":[\"\\n:host(.pn-loading.pn-arc):before, .pn-loading.pn-arc:before {\\n  background-image: url(\\\"data:image/svg+xml;base64,PHN2ZyB4bWxucz0iaHR0cDovL3d3dy53My5vcmcvMjAwMC9zdmciIHN0eWxlPSJtYXJnaW46IGF1dG87IGJhY2tncm91bmQ6IG5vbmU7IGRpc3BsYXk6IGJsb2NrOyBzaGFwZS1yZW5kZXJpbmc6IGF1dG87IiB2aWV3Qm94PSIwIDAgMTAwIDEwMCIgcHJlc2VydmVBc3BlY3RSYXRpbz0ieE1pZFlNaWQiPiAgPGNpcmNsZSBjeD0iNTAiIGN5PSI1MCIgZmlsbD0ibm9uZSIgc3Ryb2tlPSIjYzNjM2MzIiBzdHJva2Utd2lkdGg9IjEwIiByPSIzNSIgc3Ryb2tlLWRhc2hhcnJheT0iMTY0LjkzMzYxNDMxMzQ2NDE1IDU2Ljk3Nzg3MTQzNzgyMTM4Ij4gICAgPGFuaW1hdGVUcmFuc2Zvcm0gYXR0cmlidXRlTmFtZT0idHJhbnNmb3JtIiB0eXBlPSJyb3RhdGUiIHJlcGVhdENvdW50PSJpbmRlZmluaXRlIiBkdXI9IjFzIiB2YWx1ZXM9IjAgNTAgNTA7MzYwIDUwIDUwIiBrZXlUaW1lcz0iMDsxIj48L2FuaW1hdGVUcmFuc2Zvcm0+ICA8L2NpcmNsZT48L3N2Zz4=\\\");\\n  background-size: auto calc(min(50%, 400px));\\n}\",{\"id\":\"p2269\"},{\"id\":\"p2267\"},{\"id\":\"p2268\"}],\"margin\":0,\"sizing_mode\":\"stretch_width\",\"align\":\"start\"}}]}}],\"callbacks\":{\"type\":\"map\"}}};\n",
       "  var render_items = [{\"docid\":\"50734265-d690-4d49-abef-488469e469c1\",\"roots\":{\"p2266\":\"b894e832-30f0-407b-9981-e2c0b4022b83\"},\"root_ids\":[\"p2266\"]}];\n",
       "  var docs = Object.values(docs_json)\n",
       "  if (!docs) {\n",
       "    return\n",
       "  }\n",
       "  const py_version = docs[0].version.replace('rc', '-rc.').replace('.dev', '-dev.')\n",
       "  const is_dev = py_version.indexOf(\"+\") !== -1 || py_version.indexOf(\"-\") !== -1\n",
       "  function embed_document(root) {\n",
       "    var Bokeh = get_bokeh(root)\n",
       "    Bokeh.embed.embed_items_notebook(docs_json, render_items);\n",
       "    for (const render_item of render_items) {\n",
       "      for (const root_id of render_item.root_ids) {\n",
       "\tconst id_el = document.getElementById(root_id)\n",
       "\tif (id_el.children.length && (id_el.children[0].className === 'bk-root')) {\n",
       "\t  const root_el = id_el.children[0]\n",
       "\t  root_el.id = root_el.id + '-rendered'\n",
       "\t}\n",
       "      }\n",
       "    }\n",
       "  }\n",
       "  function get_bokeh(root) {\n",
       "    if (root.Bokeh === undefined) {\n",
       "      return null\n",
       "    } else if (root.Bokeh.version !== py_version && !is_dev) {\n",
       "      if (root.Bokeh.versions === undefined || !root.Bokeh.versions.has(py_version)) {\n",
       "\treturn null\n",
       "      }\n",
       "      return root.Bokeh.versions.get(py_version);\n",
       "    } else if (root.Bokeh.version === py_version) {\n",
       "      return root.Bokeh\n",
       "    }\n",
       "    return null\n",
       "  }\n",
       "  function is_loaded(root) {\n",
       "    var Bokeh = get_bokeh(root)\n",
       "    return (Bokeh != null && Bokeh.Panel !== undefined)\n",
       "  }\n",
       "  if (is_loaded(root)) {\n",
       "    embed_document(root);\n",
       "  } else {\n",
       "    var attempts = 0;\n",
       "    var timer = setInterval(function(root) {\n",
       "      if (is_loaded(root)) {\n",
       "        clearInterval(timer);\n",
       "        embed_document(root);\n",
       "      } else if (document.readyState == \"complete\") {\n",
       "        attempts++;\n",
       "        if (attempts > 200) {\n",
       "          clearInterval(timer);\n",
       "\t  var Bokeh = get_bokeh(root)\n",
       "\t  if (Bokeh == null || Bokeh.Panel == null) {\n",
       "            console.warn(\"Panel: ERROR: Unable to run Panel code because Bokeh or Panel library is missing\");\n",
       "\t  } else {\n",
       "\t    console.warn(\"Panel: WARNING: Attempting to render but not all required libraries could be resolved.\")\n",
       "\t    embed_document(root)\n",
       "\t  }\n",
       "        }\n",
       "      }\n",
       "    }, 25, root)\n",
       "  }\n",
       "})(window);</script>"
      ],
      "text/plain": [
       ":Curve   [DATE]   (AMOUNT)"
      ]
     },
     "execution_count": 19,
     "metadata": {
      "application/vnd.holoviews_exec.v0+json": {
       "id": "p2266"
      }
     },
     "output_type": "execute_result"
    }
   ],
   "source": [
    "# plot for cardholder 18\n",
    "\n",
    "cardholder_18 = data_by_id.get_group(18)['AMOUNT'].hvplot(ylabel='AMOUNT', xlabel='DATE', title=\"Transactions by Id Holder 18\")\n",
    "cardholder_18"
   ]
  },
  {
   "cell_type": "markdown",
   "id": "e8333ac1",
   "metadata": {},
   "source": [
    "Conclusions for Question 1\n",
    "The consumption pattern for both the id holder is very different. Id Holder 2 makes too many small transactions. Id Holder 18 has transactions ranging till $1839. Id Holder 2 is more suspectable to fraudulent transactions\n",
    "\n"
   ]
  },
  {
   "cell_type": "markdown",
   "id": "00e9cfe2",
   "metadata": {},
   "source": [
    "Data Analysis Question 2\n",
    "\n",
    "Use Plotly Express to create a series of six box plots, one for each month, in order to identify how many outliers could be per month for card holder id 25. By observing the consumption patters, do you see any anomalies? Write your own conclusions about your insights."
   ]
  },
  {
   "cell_type": "code",
   "execution_count": 22,
   "id": "cd0edfd8",
   "metadata": {},
   "outputs": [
    {
     "data": {
      "text/html": [
       "<div>\n",
       "<style scoped>\n",
       "    .dataframe tbody tr th:only-of-type {\n",
       "        vertical-align: middle;\n",
       "    }\n",
       "\n",
       "    .dataframe tbody tr th {\n",
       "        vertical-align: top;\n",
       "    }\n",
       "\n",
       "    .dataframe thead th {\n",
       "        text-align: right;\n",
       "    }\n",
       "</style>\n",
       "<table border=\"1\" class=\"dataframe\">\n",
       "  <thead>\n",
       "    <tr style=\"text-align: right;\">\n",
       "      <th></th>\n",
       "      <th>ID</th>\n",
       "      <th>Name</th>\n",
       "      <th>Card</th>\n",
       "      <th>AMOUNT</th>\n",
       "      <th>Category</th>\n",
       "    </tr>\n",
       "    <tr>\n",
       "      <th>DATE</th>\n",
       "      <th></th>\n",
       "      <th></th>\n",
       "      <th></th>\n",
       "      <th></th>\n",
       "      <th></th>\n",
       "    </tr>\n",
       "  </thead>\n",
       "  <tbody>\n",
       "    <tr>\n",
       "      <th>2018-04-02 01:50:15</th>\n",
       "      <td>25</td>\n",
       "      <td>Nancy Contreras</td>\n",
       "      <td>372414832802279</td>\n",
       "      <td>7.08</td>\n",
       "      <td>food truck</td>\n",
       "    </tr>\n",
       "    <tr>\n",
       "      <th>2018-04-18 10:12:40</th>\n",
       "      <td>25</td>\n",
       "      <td>Nancy Contreras</td>\n",
       "      <td>372414832802279</td>\n",
       "      <td>7.39</td>\n",
       "      <td>bar</td>\n",
       "    </tr>\n",
       "    <tr>\n",
       "      <th>2018-01-21 23:04:02</th>\n",
       "      <td>25</td>\n",
       "      <td>Nancy Contreras</td>\n",
       "      <td>372414832802279</td>\n",
       "      <td>2.22</td>\n",
       "      <td>food truck</td>\n",
       "    </tr>\n",
       "    <tr>\n",
       "      <th>2018-06-30 03:05:55</th>\n",
       "      <td>25</td>\n",
       "      <td>Nancy Contreras</td>\n",
       "      <td>372414832802279</td>\n",
       "      <td>2.27</td>\n",
       "      <td>bar</td>\n",
       "    </tr>\n",
       "    <tr>\n",
       "      <th>2018-04-26 02:16:45</th>\n",
       "      <td>25</td>\n",
       "      <td>Nancy Contreras</td>\n",
       "      <td>372414832802279</td>\n",
       "      <td>2.79</td>\n",
       "      <td>bar</td>\n",
       "    </tr>\n",
       "  </tbody>\n",
       "</table>\n",
       "</div>"
      ],
      "text/plain": [
       "                     ID             Name             Card  AMOUNT    Category\n",
       "DATE                                                                         \n",
       "2018-04-02 01:50:15  25  Nancy Contreras  372414832802279    7.08  food truck\n",
       "2018-04-18 10:12:40  25  Nancy Contreras  372414832802279    7.39         bar\n",
       "2018-01-21 23:04:02  25  Nancy Contreras  372414832802279    2.22  food truck\n",
       "2018-06-30 03:05:55  25  Nancy Contreras  372414832802279    2.27         bar\n",
       "2018-04-26 02:16:45  25  Nancy Contreras  372414832802279    2.79         bar"
      ]
     },
     "execution_count": 22,
     "metadata": {},
     "output_type": "execute_result"
    }
   ],
   "source": [
    "# loading data of daily transactions from jan to jun 2018 for card holder 25\n",
    "card_holder_id = 25\n",
    "start_date = '2018-01-01' \n",
    "end_date = '2018-07-01' \n",
    "query = f\"\"\"\n",
    "SELECT a.ID, a.Name, b.Card, c.DATE, c.AMOUNT, e.NAME as 'Category'\n",
    "FROM CardHolder a, CreditCard b, Transaction c, Merchant d, MerchantCategory e\n",
    "WHERE a.ID = b.IDCardHolder AND b.Card = c.CARD AND c.IDMerchant = d.ID AND d.IDMerchantCategory = e.ID\n",
    "AND c.DATE BETWEEN '2018-01-01 00:00:00' AND '2018-07-01 00:00:00'\n",
    "AND a.ID = 25\n",
    "\"\"\"\n",
    "\n",
    "transaction_df = execute_query(query)\n",
    "transaction_df.head()\n"
   ]
  },
  {
   "cell_type": "code",
   "execution_count": 23,
   "id": "2f817bd9",
   "metadata": {},
   "outputs": [
    {
     "data": {
      "text/html": [
       "<div>\n",
       "<style scoped>\n",
       "    .dataframe tbody tr th:only-of-type {\n",
       "        vertical-align: middle;\n",
       "    }\n",
       "\n",
       "    .dataframe tbody tr th {\n",
       "        vertical-align: top;\n",
       "    }\n",
       "\n",
       "    .dataframe thead th {\n",
       "        text-align: right;\n",
       "    }\n",
       "</style>\n",
       "<table border=\"1\" class=\"dataframe\">\n",
       "  <thead>\n",
       "    <tr style=\"text-align: right;\">\n",
       "      <th></th>\n",
       "      <th>ID</th>\n",
       "      <th>Name</th>\n",
       "      <th>Card</th>\n",
       "      <th>AMOUNT</th>\n",
       "      <th>Category</th>\n",
       "      <th>Month</th>\n",
       "    </tr>\n",
       "    <tr>\n",
       "      <th>DATE</th>\n",
       "      <th></th>\n",
       "      <th></th>\n",
       "      <th></th>\n",
       "      <th></th>\n",
       "      <th></th>\n",
       "      <th></th>\n",
       "    </tr>\n",
       "  </thead>\n",
       "  <tbody>\n",
       "    <tr>\n",
       "      <th>2018-04-02 01:50:15</th>\n",
       "      <td>25</td>\n",
       "      <td>Nancy Contreras</td>\n",
       "      <td>372414832802279</td>\n",
       "      <td>7.08</td>\n",
       "      <td>food truck</td>\n",
       "      <td>April</td>\n",
       "    </tr>\n",
       "    <tr>\n",
       "      <th>2018-04-18 10:12:40</th>\n",
       "      <td>25</td>\n",
       "      <td>Nancy Contreras</td>\n",
       "      <td>372414832802279</td>\n",
       "      <td>7.39</td>\n",
       "      <td>bar</td>\n",
       "      <td>April</td>\n",
       "    </tr>\n",
       "    <tr>\n",
       "      <th>2018-01-21 23:04:02</th>\n",
       "      <td>25</td>\n",
       "      <td>Nancy Contreras</td>\n",
       "      <td>372414832802279</td>\n",
       "      <td>2.22</td>\n",
       "      <td>food truck</td>\n",
       "      <td>January</td>\n",
       "    </tr>\n",
       "    <tr>\n",
       "      <th>2018-06-30 03:05:55</th>\n",
       "      <td>25</td>\n",
       "      <td>Nancy Contreras</td>\n",
       "      <td>372414832802279</td>\n",
       "      <td>2.27</td>\n",
       "      <td>bar</td>\n",
       "      <td>June</td>\n",
       "    </tr>\n",
       "    <tr>\n",
       "      <th>2018-04-26 02:16:45</th>\n",
       "      <td>25</td>\n",
       "      <td>Nancy Contreras</td>\n",
       "      <td>372414832802279</td>\n",
       "      <td>2.79</td>\n",
       "      <td>bar</td>\n",
       "      <td>April</td>\n",
       "    </tr>\n",
       "  </tbody>\n",
       "</table>\n",
       "</div>"
      ],
      "text/plain": [
       "                     ID             Name             Card  AMOUNT    Category  \\\n",
       "DATE                                                                            \n",
       "2018-04-02 01:50:15  25  Nancy Contreras  372414832802279    7.08  food truck   \n",
       "2018-04-18 10:12:40  25  Nancy Contreras  372414832802279    7.39         bar   \n",
       "2018-01-21 23:04:02  25  Nancy Contreras  372414832802279    2.22  food truck   \n",
       "2018-06-30 03:05:55  25  Nancy Contreras  372414832802279    2.27         bar   \n",
       "2018-04-26 02:16:45  25  Nancy Contreras  372414832802279    2.79         bar   \n",
       "\n",
       "                       Month  \n",
       "DATE                          \n",
       "2018-04-02 01:50:15    April  \n",
       "2018-04-18 10:12:40    April  \n",
       "2018-01-21 23:04:02  January  \n",
       "2018-06-30 03:05:55     June  \n",
       "2018-04-26 02:16:45    April  "
      ]
     },
     "execution_count": 23,
     "metadata": {},
     "output_type": "execute_result"
    }
   ],
   "source": [
    "# change the numeric month to month names\n",
    "transaction_df['Month'] = transaction_df.index.month_name()\n",
    "transaction_df.head()\n"
   ]
  },
  {
   "cell_type": "code",
   "execution_count": 24,
   "id": "92e5a69b",
   "metadata": {},
   "outputs": [
    {
     "data": {
      "application/vnd.plotly.v1+json": {
       "config": {
        "plotlyServerURL": "https://plot.ly"
       },
       "data": [
        {
         "alignmentgroup": "True",
         "customdata": [
          [
           "food truck",
           "372414832802279"
          ],
          [
           "food truck",
           "372414832802279"
          ],
          [
           "food truck",
           "372414832802279"
          ],
          [
           "food truck",
           "372414832802279"
          ],
          [
           "food truck",
           "372414832802279"
          ],
          [
           "food truck",
           "372414832802279"
          ],
          [
           "food truck",
           "372414832802279"
          ],
          [
           "food truck",
           "372414832802279"
          ],
          [
           "food truck",
           "372414832802279"
          ],
          [
           "food truck",
           "372414832802279"
          ],
          [
           "food truck",
           "372414832802279"
          ],
          [
           "food truck",
           "4319653513507"
          ],
          [
           "food truck",
           "4319653513507"
          ],
          [
           "food truck",
           "4319653513507"
          ],
          [
           "food truck",
           "4319653513507"
          ],
          [
           "food truck",
           "4319653513507"
          ],
          [
           "food truck",
           "4319653513507"
          ]
         ],
         "hovertemplate": "Category=%{customdata[0]}<br>Month=%{x}<br>AMOUNT=%{y}<br>Card=%{customdata[1]}<extra></extra>",
         "legendgroup": "food truck",
         "marker": {
          "color": "#636efa"
         },
         "name": "food truck",
         "notched": false,
         "offsetgroup": "food truck",
         "orientation": "v",
         "showlegend": true,
         "type": "box",
         "x": [
          "April",
          "January",
          "January",
          "March",
          "April",
          "March",
          "January",
          "April",
          "April",
          "January",
          "February",
          "January",
          "May",
          "January",
          "January",
          "April",
          "February"
         ],
         "x0": " ",
         "xaxis": "x",
         "y": [
          7.08,
          2.22,
          10.74,
          10.1,
          17.15,
          18.28,
          17.84,
          20.03,
          15.66,
          1.65,
          1.18,
          2.75,
          1046,
          1.46,
          2.93,
          2.62,
          16.7
         ],
         "y0": " ",
         "yaxis": "y"
        },
        {
         "alignmentgroup": "True",
         "customdata": [
          [
           "bar",
           "372414832802279"
          ],
          [
           "bar",
           "372414832802279"
          ],
          [
           "bar",
           "372414832802279"
          ],
          [
           "bar",
           "372414832802279"
          ],
          [
           "bar",
           "372414832802279"
          ],
          [
           "bar",
           "372414832802279"
          ],
          [
           "bar",
           "4319653513507"
          ],
          [
           "bar",
           "4319653513507"
          ],
          [
           "bar",
           "4319653513507"
          ],
          [
           "bar",
           "4319653513507"
          ],
          [
           "bar",
           "4319653513507"
          ],
          [
           "bar",
           "4319653513507"
          ],
          [
           "bar",
           "4319653513507"
          ],
          [
           "bar",
           "4319653513507"
          ]
         ],
         "hovertemplate": "Category=%{customdata[0]}<br>Month=%{x}<br>AMOUNT=%{y}<br>Card=%{customdata[1]}<extra></extra>",
         "legendgroup": "bar",
         "marker": {
          "color": "#EF553B"
         },
         "name": "bar",
         "notched": false,
         "offsetgroup": "bar",
         "orientation": "v",
         "showlegend": true,
         "type": "box",
         "x": [
          "April",
          "June",
          "April",
          "February",
          "February",
          "May",
          "April",
          "April",
          "March",
          "June",
          "March",
          "March",
          "May",
          "June"
         ],
         "x0": " ",
         "xaxis": "x",
         "y": [
          7.39,
          2.27,
          2.79,
          11.01,
          10.75,
          5.97,
          6.01,
          10.02,
          16.58,
          1813,
          1334,
          13.57,
          2.27,
          1.03
         ],
         "y0": " ",
         "yaxis": "y"
        },
        {
         "alignmentgroup": "True",
         "customdata": [
          [
           "restaurant",
           "372414832802279"
          ],
          [
           "restaurant",
           "372414832802279"
          ],
          [
           "restaurant",
           "372414832802279"
          ],
          [
           "restaurant",
           "372414832802279"
          ],
          [
           "restaurant",
           "372414832802279"
          ],
          [
           "restaurant",
           "372414832802279"
          ],
          [
           "restaurant",
           "372414832802279"
          ],
          [
           "restaurant",
           "4319653513507"
          ],
          [
           "restaurant",
           "4319653513507"
          ],
          [
           "restaurant",
           "4319653513507"
          ],
          [
           "restaurant",
           "4319653513507"
          ],
          [
           "restaurant",
           "4319653513507"
          ],
          [
           "restaurant",
           "4319653513507"
          ]
         ],
         "hovertemplate": "Category=%{customdata[0]}<br>Month=%{x}<br>AMOUNT=%{y}<br>Card=%{customdata[1]}<extra></extra>",
         "legendgroup": "restaurant",
         "marker": {
          "color": "#00cc96"
         },
         "name": "restaurant",
         "notched": false,
         "offsetgroup": "restaurant",
         "orientation": "v",
         "showlegend": true,
         "type": "box",
         "x": [
          "February",
          "January",
          "June",
          "March",
          "March",
          "March",
          "June",
          "June",
          "April",
          "January",
          "June",
          "March",
          "June"
         ],
         "x0": " ",
         "xaxis": "x",
         "y": [
          0.91,
          1.39,
          11.53,
          3.08,
          2.04,
          4.2,
          15.98,
          749,
          269,
          1177,
          10.15,
          2.56,
          16.61
         ],
         "y0": " ",
         "yaxis": "y"
        },
        {
         "alignmentgroup": "True",
         "customdata": [
          [
           "pub",
           "372414832802279"
          ],
          [
           "pub",
           "372414832802279"
          ],
          [
           "pub",
           "372414832802279"
          ],
          [
           "pub",
           "372414832802279"
          ],
          [
           "pub",
           "4319653513507"
          ],
          [
           "pub",
           "4319653513507"
          ],
          [
           "pub",
           "4319653513507"
          ],
          [
           "pub",
           "4319653513507"
          ],
          [
           "pub",
           "4319653513507"
          ],
          [
           "pub",
           "4319653513507"
          ],
          [
           "pub",
           "4319653513507"
          ],
          [
           "pub",
           "4319653513507"
          ]
         ],
         "hovertemplate": "Category=%{customdata[0]}<br>Month=%{x}<br>AMOUNT=%{y}<br>Card=%{customdata[1]}<extra></extra>",
         "legendgroup": "pub",
         "marker": {
          "color": "#ab63fa"
         },
         "name": "pub",
         "notched": false,
         "offsetgroup": "pub",
         "orientation": "v",
         "showlegend": true,
         "type": "box",
         "x": [
          "February",
          "June",
          "March",
          "April",
          "February",
          "April",
          "March",
          "April",
          "April",
          "June",
          "June",
          "June"
         ],
         "x0": " ",
         "xaxis": "x",
         "y": [
          10.81,
          11.01,
          1.65,
          16.5,
          2.63,
          10.06,
          12.42,
          10.24,
          1063,
          10.69,
          1162,
          16.29
         ],
         "y0": " ",
         "yaxis": "y"
        },
        {
         "alignmentgroup": "True",
         "customdata": [
          [
           "coffee shop",
           "372414832802279"
          ],
          [
           "coffee shop",
           "372414832802279"
          ],
          [
           "coffee shop",
           "372414832802279"
          ],
          [
           "coffee shop",
           "372414832802279"
          ],
          [
           "coffee shop",
           "372414832802279"
          ],
          [
           "coffee shop",
           "372414832802279"
          ],
          [
           "coffee shop",
           "4319653513507"
          ],
          [
           "coffee shop",
           "4319653513507"
          ],
          [
           "coffee shop",
           "4319653513507"
          ],
          [
           "coffee shop",
           "4319653513507"
          ],
          [
           "coffee shop",
           "4319653513507"
          ],
          [
           "coffee shop",
           "4319653513507"
          ]
         ],
         "hovertemplate": "Category=%{customdata[0]}<br>Month=%{x}<br>AMOUNT=%{y}<br>Card=%{customdata[1]}<extra></extra>",
         "legendgroup": "coffee shop",
         "marker": {
          "color": "#FFA15A"
         },
         "name": "coffee shop",
         "notched": false,
         "offsetgroup": "coffee shop",
         "orientation": "v",
         "showlegend": true,
         "type": "box",
         "x": [
          "April",
          "June",
          "June",
          "May",
          "February",
          "March",
          "February",
          "March",
          "April",
          "January",
          "May",
          "February"
         ],
         "x0": " ",
         "xaxis": "x",
         "y": [
          10.15,
          11.88,
          5.24,
          1.1,
          5.97,
          21.04,
          3.69,
          2.88,
          100,
          15.86,
          12.15,
          1.26
         ],
         "y0": " ",
         "yaxis": "y"
        }
       ],
       "layout": {
        "boxmode": "group",
        "legend": {
         "title": {
          "text": "Category"
         },
         "tracegroupgap": 0
        },
        "template": {
         "data": {
          "bar": [
           {
            "error_x": {
             "color": "#2a3f5f"
            },
            "error_y": {
             "color": "#2a3f5f"
            },
            "marker": {
             "line": {
              "color": "#E5ECF6",
              "width": 0.5
             },
             "pattern": {
              "fillmode": "overlay",
              "size": 10,
              "solidity": 0.2
             }
            },
            "type": "bar"
           }
          ],
          "barpolar": [
           {
            "marker": {
             "line": {
              "color": "#E5ECF6",
              "width": 0.5
             },
             "pattern": {
              "fillmode": "overlay",
              "size": 10,
              "solidity": 0.2
             }
            },
            "type": "barpolar"
           }
          ],
          "carpet": [
           {
            "aaxis": {
             "endlinecolor": "#2a3f5f",
             "gridcolor": "white",
             "linecolor": "white",
             "minorgridcolor": "white",
             "startlinecolor": "#2a3f5f"
            },
            "baxis": {
             "endlinecolor": "#2a3f5f",
             "gridcolor": "white",
             "linecolor": "white",
             "minorgridcolor": "white",
             "startlinecolor": "#2a3f5f"
            },
            "type": "carpet"
           }
          ],
          "choropleth": [
           {
            "colorbar": {
             "outlinewidth": 0,
             "ticks": ""
            },
            "type": "choropleth"
           }
          ],
          "contour": [
           {
            "colorbar": {
             "outlinewidth": 0,
             "ticks": ""
            },
            "colorscale": [
             [
              0,
              "#0d0887"
             ],
             [
              0.1111111111111111,
              "#46039f"
             ],
             [
              0.2222222222222222,
              "#7201a8"
             ],
             [
              0.3333333333333333,
              "#9c179e"
             ],
             [
              0.4444444444444444,
              "#bd3786"
             ],
             [
              0.5555555555555556,
              "#d8576b"
             ],
             [
              0.6666666666666666,
              "#ed7953"
             ],
             [
              0.7777777777777778,
              "#fb9f3a"
             ],
             [
              0.8888888888888888,
              "#fdca26"
             ],
             [
              1,
              "#f0f921"
             ]
            ],
            "type": "contour"
           }
          ],
          "contourcarpet": [
           {
            "colorbar": {
             "outlinewidth": 0,
             "ticks": ""
            },
            "type": "contourcarpet"
           }
          ],
          "heatmap": [
           {
            "colorbar": {
             "outlinewidth": 0,
             "ticks": ""
            },
            "colorscale": [
             [
              0,
              "#0d0887"
             ],
             [
              0.1111111111111111,
              "#46039f"
             ],
             [
              0.2222222222222222,
              "#7201a8"
             ],
             [
              0.3333333333333333,
              "#9c179e"
             ],
             [
              0.4444444444444444,
              "#bd3786"
             ],
             [
              0.5555555555555556,
              "#d8576b"
             ],
             [
              0.6666666666666666,
              "#ed7953"
             ],
             [
              0.7777777777777778,
              "#fb9f3a"
             ],
             [
              0.8888888888888888,
              "#fdca26"
             ],
             [
              1,
              "#f0f921"
             ]
            ],
            "type": "heatmap"
           }
          ],
          "heatmapgl": [
           {
            "colorbar": {
             "outlinewidth": 0,
             "ticks": ""
            },
            "colorscale": [
             [
              0,
              "#0d0887"
             ],
             [
              0.1111111111111111,
              "#46039f"
             ],
             [
              0.2222222222222222,
              "#7201a8"
             ],
             [
              0.3333333333333333,
              "#9c179e"
             ],
             [
              0.4444444444444444,
              "#bd3786"
             ],
             [
              0.5555555555555556,
              "#d8576b"
             ],
             [
              0.6666666666666666,
              "#ed7953"
             ],
             [
              0.7777777777777778,
              "#fb9f3a"
             ],
             [
              0.8888888888888888,
              "#fdca26"
             ],
             [
              1,
              "#f0f921"
             ]
            ],
            "type": "heatmapgl"
           }
          ],
          "histogram": [
           {
            "marker": {
             "pattern": {
              "fillmode": "overlay",
              "size": 10,
              "solidity": 0.2
             }
            },
            "type": "histogram"
           }
          ],
          "histogram2d": [
           {
            "colorbar": {
             "outlinewidth": 0,
             "ticks": ""
            },
            "colorscale": [
             [
              0,
              "#0d0887"
             ],
             [
              0.1111111111111111,
              "#46039f"
             ],
             [
              0.2222222222222222,
              "#7201a8"
             ],
             [
              0.3333333333333333,
              "#9c179e"
             ],
             [
              0.4444444444444444,
              "#bd3786"
             ],
             [
              0.5555555555555556,
              "#d8576b"
             ],
             [
              0.6666666666666666,
              "#ed7953"
             ],
             [
              0.7777777777777778,
              "#fb9f3a"
             ],
             [
              0.8888888888888888,
              "#fdca26"
             ],
             [
              1,
              "#f0f921"
             ]
            ],
            "type": "histogram2d"
           }
          ],
          "histogram2dcontour": [
           {
            "colorbar": {
             "outlinewidth": 0,
             "ticks": ""
            },
            "colorscale": [
             [
              0,
              "#0d0887"
             ],
             [
              0.1111111111111111,
              "#46039f"
             ],
             [
              0.2222222222222222,
              "#7201a8"
             ],
             [
              0.3333333333333333,
              "#9c179e"
             ],
             [
              0.4444444444444444,
              "#bd3786"
             ],
             [
              0.5555555555555556,
              "#d8576b"
             ],
             [
              0.6666666666666666,
              "#ed7953"
             ],
             [
              0.7777777777777778,
              "#fb9f3a"
             ],
             [
              0.8888888888888888,
              "#fdca26"
             ],
             [
              1,
              "#f0f921"
             ]
            ],
            "type": "histogram2dcontour"
           }
          ],
          "mesh3d": [
           {
            "colorbar": {
             "outlinewidth": 0,
             "ticks": ""
            },
            "type": "mesh3d"
           }
          ],
          "parcoords": [
           {
            "line": {
             "colorbar": {
              "outlinewidth": 0,
              "ticks": ""
             }
            },
            "type": "parcoords"
           }
          ],
          "pie": [
           {
            "automargin": true,
            "type": "pie"
           }
          ],
          "scatter": [
           {
            "fillpattern": {
             "fillmode": "overlay",
             "size": 10,
             "solidity": 0.2
            },
            "type": "scatter"
           }
          ],
          "scatter3d": [
           {
            "line": {
             "colorbar": {
              "outlinewidth": 0,
              "ticks": ""
             }
            },
            "marker": {
             "colorbar": {
              "outlinewidth": 0,
              "ticks": ""
             }
            },
            "type": "scatter3d"
           }
          ],
          "scattercarpet": [
           {
            "marker": {
             "colorbar": {
              "outlinewidth": 0,
              "ticks": ""
             }
            },
            "type": "scattercarpet"
           }
          ],
          "scattergeo": [
           {
            "marker": {
             "colorbar": {
              "outlinewidth": 0,
              "ticks": ""
             }
            },
            "type": "scattergeo"
           }
          ],
          "scattergl": [
           {
            "marker": {
             "colorbar": {
              "outlinewidth": 0,
              "ticks": ""
             }
            },
            "type": "scattergl"
           }
          ],
          "scattermapbox": [
           {
            "marker": {
             "colorbar": {
              "outlinewidth": 0,
              "ticks": ""
             }
            },
            "type": "scattermapbox"
           }
          ],
          "scatterpolar": [
           {
            "marker": {
             "colorbar": {
              "outlinewidth": 0,
              "ticks": ""
             }
            },
            "type": "scatterpolar"
           }
          ],
          "scatterpolargl": [
           {
            "marker": {
             "colorbar": {
              "outlinewidth": 0,
              "ticks": ""
             }
            },
            "type": "scatterpolargl"
           }
          ],
          "scatterternary": [
           {
            "marker": {
             "colorbar": {
              "outlinewidth": 0,
              "ticks": ""
             }
            },
            "type": "scatterternary"
           }
          ],
          "surface": [
           {
            "colorbar": {
             "outlinewidth": 0,
             "ticks": ""
            },
            "colorscale": [
             [
              0,
              "#0d0887"
             ],
             [
              0.1111111111111111,
              "#46039f"
             ],
             [
              0.2222222222222222,
              "#7201a8"
             ],
             [
              0.3333333333333333,
              "#9c179e"
             ],
             [
              0.4444444444444444,
              "#bd3786"
             ],
             [
              0.5555555555555556,
              "#d8576b"
             ],
             [
              0.6666666666666666,
              "#ed7953"
             ],
             [
              0.7777777777777778,
              "#fb9f3a"
             ],
             [
              0.8888888888888888,
              "#fdca26"
             ],
             [
              1,
              "#f0f921"
             ]
            ],
            "type": "surface"
           }
          ],
          "table": [
           {
            "cells": {
             "fill": {
              "color": "#EBF0F8"
             },
             "line": {
              "color": "white"
             }
            },
            "header": {
             "fill": {
              "color": "#C8D4E3"
             },
             "line": {
              "color": "white"
             }
            },
            "type": "table"
           }
          ]
         },
         "layout": {
          "annotationdefaults": {
           "arrowcolor": "#2a3f5f",
           "arrowhead": 0,
           "arrowwidth": 1
          },
          "autotypenumbers": "strict",
          "coloraxis": {
           "colorbar": {
            "outlinewidth": 0,
            "ticks": ""
           }
          },
          "colorscale": {
           "diverging": [
            [
             0,
             "#8e0152"
            ],
            [
             0.1,
             "#c51b7d"
            ],
            [
             0.2,
             "#de77ae"
            ],
            [
             0.3,
             "#f1b6da"
            ],
            [
             0.4,
             "#fde0ef"
            ],
            [
             0.5,
             "#f7f7f7"
            ],
            [
             0.6,
             "#e6f5d0"
            ],
            [
             0.7,
             "#b8e186"
            ],
            [
             0.8,
             "#7fbc41"
            ],
            [
             0.9,
             "#4d9221"
            ],
            [
             1,
             "#276419"
            ]
           ],
           "sequential": [
            [
             0,
             "#0d0887"
            ],
            [
             0.1111111111111111,
             "#46039f"
            ],
            [
             0.2222222222222222,
             "#7201a8"
            ],
            [
             0.3333333333333333,
             "#9c179e"
            ],
            [
             0.4444444444444444,
             "#bd3786"
            ],
            [
             0.5555555555555556,
             "#d8576b"
            ],
            [
             0.6666666666666666,
             "#ed7953"
            ],
            [
             0.7777777777777778,
             "#fb9f3a"
            ],
            [
             0.8888888888888888,
             "#fdca26"
            ],
            [
             1,
             "#f0f921"
            ]
           ],
           "sequentialminus": [
            [
             0,
             "#0d0887"
            ],
            [
             0.1111111111111111,
             "#46039f"
            ],
            [
             0.2222222222222222,
             "#7201a8"
            ],
            [
             0.3333333333333333,
             "#9c179e"
            ],
            [
             0.4444444444444444,
             "#bd3786"
            ],
            [
             0.5555555555555556,
             "#d8576b"
            ],
            [
             0.6666666666666666,
             "#ed7953"
            ],
            [
             0.7777777777777778,
             "#fb9f3a"
            ],
            [
             0.8888888888888888,
             "#fdca26"
            ],
            [
             1,
             "#f0f921"
            ]
           ]
          },
          "colorway": [
           "#636efa",
           "#EF553B",
           "#00cc96",
           "#ab63fa",
           "#FFA15A",
           "#19d3f3",
           "#FF6692",
           "#B6E880",
           "#FF97FF",
           "#FECB52"
          ],
          "font": {
           "color": "#2a3f5f"
          },
          "geo": {
           "bgcolor": "white",
           "lakecolor": "white",
           "landcolor": "#E5ECF6",
           "showlakes": true,
           "showland": true,
           "subunitcolor": "white"
          },
          "hoverlabel": {
           "align": "left"
          },
          "hovermode": "closest",
          "mapbox": {
           "style": "light"
          },
          "paper_bgcolor": "white",
          "plot_bgcolor": "#E5ECF6",
          "polar": {
           "angularaxis": {
            "gridcolor": "white",
            "linecolor": "white",
            "ticks": ""
           },
           "bgcolor": "#E5ECF6",
           "radialaxis": {
            "gridcolor": "white",
            "linecolor": "white",
            "ticks": ""
           }
          },
          "scene": {
           "xaxis": {
            "backgroundcolor": "#E5ECF6",
            "gridcolor": "white",
            "gridwidth": 2,
            "linecolor": "white",
            "showbackground": true,
            "ticks": "",
            "zerolinecolor": "white"
           },
           "yaxis": {
            "backgroundcolor": "#E5ECF6",
            "gridcolor": "white",
            "gridwidth": 2,
            "linecolor": "white",
            "showbackground": true,
            "ticks": "",
            "zerolinecolor": "white"
           },
           "zaxis": {
            "backgroundcolor": "#E5ECF6",
            "gridcolor": "white",
            "gridwidth": 2,
            "linecolor": "white",
            "showbackground": true,
            "ticks": "",
            "zerolinecolor": "white"
           }
          },
          "shapedefaults": {
           "line": {
            "color": "#2a3f5f"
           }
          },
          "ternary": {
           "aaxis": {
            "gridcolor": "white",
            "linecolor": "white",
            "ticks": ""
           },
           "baxis": {
            "gridcolor": "white",
            "linecolor": "white",
            "ticks": ""
           },
           "bgcolor": "#E5ECF6",
           "caxis": {
            "gridcolor": "white",
            "linecolor": "white",
            "ticks": ""
           }
          },
          "title": {
           "x": 0.05
          },
          "xaxis": {
           "automargin": true,
           "gridcolor": "white",
           "linecolor": "white",
           "ticks": "",
           "title": {
            "standoff": 15
           },
           "zerolinecolor": "white",
           "zerolinewidth": 2
          },
          "yaxis": {
           "automargin": true,
           "gridcolor": "white",
           "linecolor": "white",
           "ticks": "",
           "title": {
            "standoff": 15
           },
           "zerolinecolor": "white",
           "zerolinewidth": 2
          }
         }
        },
        "title": {
         "text": "Transactions by Id Holder 25"
        },
        "xaxis": {
         "anchor": "y",
         "domain": [
          0,
          1
         ],
         "title": {
          "text": "Month"
         }
        },
        "yaxis": {
         "anchor": "x",
         "domain": [
          0,
          1
         ],
         "title": {
          "text": "AMOUNT"
         }
        }
       }
      },
      "text/html": [
       "<div>                            <div id=\"d75781dd-39ba-4313-a8e3-26bd898a6960\" class=\"plotly-graph-div\" style=\"height:525px; width:100%;\"></div>            <script type=\"text/javascript\">                require([\"plotly\"], function(Plotly) {                    window.PLOTLYENV=window.PLOTLYENV || {};                                    if (document.getElementById(\"d75781dd-39ba-4313-a8e3-26bd898a6960\")) {                    Plotly.newPlot(                        \"d75781dd-39ba-4313-a8e3-26bd898a6960\",                        [{\"alignmentgroup\":\"True\",\"customdata\":[[\"food truck\",\"372414832802279\"],[\"food truck\",\"372414832802279\"],[\"food truck\",\"372414832802279\"],[\"food truck\",\"372414832802279\"],[\"food truck\",\"372414832802279\"],[\"food truck\",\"372414832802279\"],[\"food truck\",\"372414832802279\"],[\"food truck\",\"372414832802279\"],[\"food truck\",\"372414832802279\"],[\"food truck\",\"372414832802279\"],[\"food truck\",\"372414832802279\"],[\"food truck\",\"4319653513507\"],[\"food truck\",\"4319653513507\"],[\"food truck\",\"4319653513507\"],[\"food truck\",\"4319653513507\"],[\"food truck\",\"4319653513507\"],[\"food truck\",\"4319653513507\"]],\"hovertemplate\":\"Category=%{customdata[0]}\\u003cbr\\u003eMonth=%{x}\\u003cbr\\u003eAMOUNT=%{y}\\u003cbr\\u003eCard=%{customdata[1]}\\u003cextra\\u003e\\u003c\\u002fextra\\u003e\",\"legendgroup\":\"food truck\",\"marker\":{\"color\":\"#636efa\"},\"name\":\"food truck\",\"notched\":false,\"offsetgroup\":\"food truck\",\"orientation\":\"v\",\"showlegend\":true,\"x\":[\"April\",\"January\",\"January\",\"March\",\"April\",\"March\",\"January\",\"April\",\"April\",\"January\",\"February\",\"January\",\"May\",\"January\",\"January\",\"April\",\"February\"],\"x0\":\" \",\"xaxis\":\"x\",\"y\":[7.08,2.22,10.74,10.1,17.15,18.28,17.84,20.03,15.66,1.65,1.18,2.75,1046.0,1.46,2.93,2.62,16.7],\"y0\":\" \",\"yaxis\":\"y\",\"type\":\"box\"},{\"alignmentgroup\":\"True\",\"customdata\":[[\"bar\",\"372414832802279\"],[\"bar\",\"372414832802279\"],[\"bar\",\"372414832802279\"],[\"bar\",\"372414832802279\"],[\"bar\",\"372414832802279\"],[\"bar\",\"372414832802279\"],[\"bar\",\"4319653513507\"],[\"bar\",\"4319653513507\"],[\"bar\",\"4319653513507\"],[\"bar\",\"4319653513507\"],[\"bar\",\"4319653513507\"],[\"bar\",\"4319653513507\"],[\"bar\",\"4319653513507\"],[\"bar\",\"4319653513507\"]],\"hovertemplate\":\"Category=%{customdata[0]}\\u003cbr\\u003eMonth=%{x}\\u003cbr\\u003eAMOUNT=%{y}\\u003cbr\\u003eCard=%{customdata[1]}\\u003cextra\\u003e\\u003c\\u002fextra\\u003e\",\"legendgroup\":\"bar\",\"marker\":{\"color\":\"#EF553B\"},\"name\":\"bar\",\"notched\":false,\"offsetgroup\":\"bar\",\"orientation\":\"v\",\"showlegend\":true,\"x\":[\"April\",\"June\",\"April\",\"February\",\"February\",\"May\",\"April\",\"April\",\"March\",\"June\",\"March\",\"March\",\"May\",\"June\"],\"x0\":\" \",\"xaxis\":\"x\",\"y\":[7.39,2.27,2.79,11.01,10.75,5.97,6.01,10.02,16.58,1813.0,1334.0,13.57,2.27,1.03],\"y0\":\" \",\"yaxis\":\"y\",\"type\":\"box\"},{\"alignmentgroup\":\"True\",\"customdata\":[[\"restaurant\",\"372414832802279\"],[\"restaurant\",\"372414832802279\"],[\"restaurant\",\"372414832802279\"],[\"restaurant\",\"372414832802279\"],[\"restaurant\",\"372414832802279\"],[\"restaurant\",\"372414832802279\"],[\"restaurant\",\"372414832802279\"],[\"restaurant\",\"4319653513507\"],[\"restaurant\",\"4319653513507\"],[\"restaurant\",\"4319653513507\"],[\"restaurant\",\"4319653513507\"],[\"restaurant\",\"4319653513507\"],[\"restaurant\",\"4319653513507\"]],\"hovertemplate\":\"Category=%{customdata[0]}\\u003cbr\\u003eMonth=%{x}\\u003cbr\\u003eAMOUNT=%{y}\\u003cbr\\u003eCard=%{customdata[1]}\\u003cextra\\u003e\\u003c\\u002fextra\\u003e\",\"legendgroup\":\"restaurant\",\"marker\":{\"color\":\"#00cc96\"},\"name\":\"restaurant\",\"notched\":false,\"offsetgroup\":\"restaurant\",\"orientation\":\"v\",\"showlegend\":true,\"x\":[\"February\",\"January\",\"June\",\"March\",\"March\",\"March\",\"June\",\"June\",\"April\",\"January\",\"June\",\"March\",\"June\"],\"x0\":\" \",\"xaxis\":\"x\",\"y\":[0.91,1.39,11.53,3.08,2.04,4.2,15.98,749.0,269.0,1177.0,10.15,2.56,16.61],\"y0\":\" \",\"yaxis\":\"y\",\"type\":\"box\"},{\"alignmentgroup\":\"True\",\"customdata\":[[\"pub\",\"372414832802279\"],[\"pub\",\"372414832802279\"],[\"pub\",\"372414832802279\"],[\"pub\",\"372414832802279\"],[\"pub\",\"4319653513507\"],[\"pub\",\"4319653513507\"],[\"pub\",\"4319653513507\"],[\"pub\",\"4319653513507\"],[\"pub\",\"4319653513507\"],[\"pub\",\"4319653513507\"],[\"pub\",\"4319653513507\"],[\"pub\",\"4319653513507\"]],\"hovertemplate\":\"Category=%{customdata[0]}\\u003cbr\\u003eMonth=%{x}\\u003cbr\\u003eAMOUNT=%{y}\\u003cbr\\u003eCard=%{customdata[1]}\\u003cextra\\u003e\\u003c\\u002fextra\\u003e\",\"legendgroup\":\"pub\",\"marker\":{\"color\":\"#ab63fa\"},\"name\":\"pub\",\"notched\":false,\"offsetgroup\":\"pub\",\"orientation\":\"v\",\"showlegend\":true,\"x\":[\"February\",\"June\",\"March\",\"April\",\"February\",\"April\",\"March\",\"April\",\"April\",\"June\",\"June\",\"June\"],\"x0\":\" \",\"xaxis\":\"x\",\"y\":[10.81,11.01,1.65,16.5,2.63,10.06,12.42,10.24,1063.0,10.69,1162.0,16.29],\"y0\":\" \",\"yaxis\":\"y\",\"type\":\"box\"},{\"alignmentgroup\":\"True\",\"customdata\":[[\"coffee shop\",\"372414832802279\"],[\"coffee shop\",\"372414832802279\"],[\"coffee shop\",\"372414832802279\"],[\"coffee shop\",\"372414832802279\"],[\"coffee shop\",\"372414832802279\"],[\"coffee shop\",\"372414832802279\"],[\"coffee shop\",\"4319653513507\"],[\"coffee shop\",\"4319653513507\"],[\"coffee shop\",\"4319653513507\"],[\"coffee shop\",\"4319653513507\"],[\"coffee shop\",\"4319653513507\"],[\"coffee shop\",\"4319653513507\"]],\"hovertemplate\":\"Category=%{customdata[0]}\\u003cbr\\u003eMonth=%{x}\\u003cbr\\u003eAMOUNT=%{y}\\u003cbr\\u003eCard=%{customdata[1]}\\u003cextra\\u003e\\u003c\\u002fextra\\u003e\",\"legendgroup\":\"coffee shop\",\"marker\":{\"color\":\"#FFA15A\"},\"name\":\"coffee shop\",\"notched\":false,\"offsetgroup\":\"coffee shop\",\"orientation\":\"v\",\"showlegend\":true,\"x\":[\"April\",\"June\",\"June\",\"May\",\"February\",\"March\",\"February\",\"March\",\"April\",\"January\",\"May\",\"February\"],\"x0\":\" \",\"xaxis\":\"x\",\"y\":[10.15,11.88,5.24,1.1,5.97,21.04,3.69,2.88,100.0,15.86,12.15,1.26],\"y0\":\" \",\"yaxis\":\"y\",\"type\":\"box\"}],                        {\"template\":{\"data\":{\"histogram2dcontour\":[{\"type\":\"histogram2dcontour\",\"colorbar\":{\"outlinewidth\":0,\"ticks\":\"\"},\"colorscale\":[[0.0,\"#0d0887\"],[0.1111111111111111,\"#46039f\"],[0.2222222222222222,\"#7201a8\"],[0.3333333333333333,\"#9c179e\"],[0.4444444444444444,\"#bd3786\"],[0.5555555555555556,\"#d8576b\"],[0.6666666666666666,\"#ed7953\"],[0.7777777777777778,\"#fb9f3a\"],[0.8888888888888888,\"#fdca26\"],[1.0,\"#f0f921\"]]}],\"choropleth\":[{\"type\":\"choropleth\",\"colorbar\":{\"outlinewidth\":0,\"ticks\":\"\"}}],\"histogram2d\":[{\"type\":\"histogram2d\",\"colorbar\":{\"outlinewidth\":0,\"ticks\":\"\"},\"colorscale\":[[0.0,\"#0d0887\"],[0.1111111111111111,\"#46039f\"],[0.2222222222222222,\"#7201a8\"],[0.3333333333333333,\"#9c179e\"],[0.4444444444444444,\"#bd3786\"],[0.5555555555555556,\"#d8576b\"],[0.6666666666666666,\"#ed7953\"],[0.7777777777777778,\"#fb9f3a\"],[0.8888888888888888,\"#fdca26\"],[1.0,\"#f0f921\"]]}],\"heatmap\":[{\"type\":\"heatmap\",\"colorbar\":{\"outlinewidth\":0,\"ticks\":\"\"},\"colorscale\":[[0.0,\"#0d0887\"],[0.1111111111111111,\"#46039f\"],[0.2222222222222222,\"#7201a8\"],[0.3333333333333333,\"#9c179e\"],[0.4444444444444444,\"#bd3786\"],[0.5555555555555556,\"#d8576b\"],[0.6666666666666666,\"#ed7953\"],[0.7777777777777778,\"#fb9f3a\"],[0.8888888888888888,\"#fdca26\"],[1.0,\"#f0f921\"]]}],\"heatmapgl\":[{\"type\":\"heatmapgl\",\"colorbar\":{\"outlinewidth\":0,\"ticks\":\"\"},\"colorscale\":[[0.0,\"#0d0887\"],[0.1111111111111111,\"#46039f\"],[0.2222222222222222,\"#7201a8\"],[0.3333333333333333,\"#9c179e\"],[0.4444444444444444,\"#bd3786\"],[0.5555555555555556,\"#d8576b\"],[0.6666666666666666,\"#ed7953\"],[0.7777777777777778,\"#fb9f3a\"],[0.8888888888888888,\"#fdca26\"],[1.0,\"#f0f921\"]]}],\"contourcarpet\":[{\"type\":\"contourcarpet\",\"colorbar\":{\"outlinewidth\":0,\"ticks\":\"\"}}],\"contour\":[{\"type\":\"contour\",\"colorbar\":{\"outlinewidth\":0,\"ticks\":\"\"},\"colorscale\":[[0.0,\"#0d0887\"],[0.1111111111111111,\"#46039f\"],[0.2222222222222222,\"#7201a8\"],[0.3333333333333333,\"#9c179e\"],[0.4444444444444444,\"#bd3786\"],[0.5555555555555556,\"#d8576b\"],[0.6666666666666666,\"#ed7953\"],[0.7777777777777778,\"#fb9f3a\"],[0.8888888888888888,\"#fdca26\"],[1.0,\"#f0f921\"]]}],\"surface\":[{\"type\":\"surface\",\"colorbar\":{\"outlinewidth\":0,\"ticks\":\"\"},\"colorscale\":[[0.0,\"#0d0887\"],[0.1111111111111111,\"#46039f\"],[0.2222222222222222,\"#7201a8\"],[0.3333333333333333,\"#9c179e\"],[0.4444444444444444,\"#bd3786\"],[0.5555555555555556,\"#d8576b\"],[0.6666666666666666,\"#ed7953\"],[0.7777777777777778,\"#fb9f3a\"],[0.8888888888888888,\"#fdca26\"],[1.0,\"#f0f921\"]]}],\"mesh3d\":[{\"type\":\"mesh3d\",\"colorbar\":{\"outlinewidth\":0,\"ticks\":\"\"}}],\"scatter\":[{\"fillpattern\":{\"fillmode\":\"overlay\",\"size\":10,\"solidity\":0.2},\"type\":\"scatter\"}],\"parcoords\":[{\"type\":\"parcoords\",\"line\":{\"colorbar\":{\"outlinewidth\":0,\"ticks\":\"\"}}}],\"scatterpolargl\":[{\"type\":\"scatterpolargl\",\"marker\":{\"colorbar\":{\"outlinewidth\":0,\"ticks\":\"\"}}}],\"bar\":[{\"error_x\":{\"color\":\"#2a3f5f\"},\"error_y\":{\"color\":\"#2a3f5f\"},\"marker\":{\"line\":{\"color\":\"#E5ECF6\",\"width\":0.5},\"pattern\":{\"fillmode\":\"overlay\",\"size\":10,\"solidity\":0.2}},\"type\":\"bar\"}],\"scattergeo\":[{\"type\":\"scattergeo\",\"marker\":{\"colorbar\":{\"outlinewidth\":0,\"ticks\":\"\"}}}],\"scatterpolar\":[{\"type\":\"scatterpolar\",\"marker\":{\"colorbar\":{\"outlinewidth\":0,\"ticks\":\"\"}}}],\"histogram\":[{\"marker\":{\"pattern\":{\"fillmode\":\"overlay\",\"size\":10,\"solidity\":0.2}},\"type\":\"histogram\"}],\"scattergl\":[{\"type\":\"scattergl\",\"marker\":{\"colorbar\":{\"outlinewidth\":0,\"ticks\":\"\"}}}],\"scatter3d\":[{\"type\":\"scatter3d\",\"line\":{\"colorbar\":{\"outlinewidth\":0,\"ticks\":\"\"}},\"marker\":{\"colorbar\":{\"outlinewidth\":0,\"ticks\":\"\"}}}],\"scattermapbox\":[{\"type\":\"scattermapbox\",\"marker\":{\"colorbar\":{\"outlinewidth\":0,\"ticks\":\"\"}}}],\"scatterternary\":[{\"type\":\"scatterternary\",\"marker\":{\"colorbar\":{\"outlinewidth\":0,\"ticks\":\"\"}}}],\"scattercarpet\":[{\"type\":\"scattercarpet\",\"marker\":{\"colorbar\":{\"outlinewidth\":0,\"ticks\":\"\"}}}],\"carpet\":[{\"aaxis\":{\"endlinecolor\":\"#2a3f5f\",\"gridcolor\":\"white\",\"linecolor\":\"white\",\"minorgridcolor\":\"white\",\"startlinecolor\":\"#2a3f5f\"},\"baxis\":{\"endlinecolor\":\"#2a3f5f\",\"gridcolor\":\"white\",\"linecolor\":\"white\",\"minorgridcolor\":\"white\",\"startlinecolor\":\"#2a3f5f\"},\"type\":\"carpet\"}],\"table\":[{\"cells\":{\"fill\":{\"color\":\"#EBF0F8\"},\"line\":{\"color\":\"white\"}},\"header\":{\"fill\":{\"color\":\"#C8D4E3\"},\"line\":{\"color\":\"white\"}},\"type\":\"table\"}],\"barpolar\":[{\"marker\":{\"line\":{\"color\":\"#E5ECF6\",\"width\":0.5},\"pattern\":{\"fillmode\":\"overlay\",\"size\":10,\"solidity\":0.2}},\"type\":\"barpolar\"}],\"pie\":[{\"automargin\":true,\"type\":\"pie\"}]},\"layout\":{\"autotypenumbers\":\"strict\",\"colorway\":[\"#636efa\",\"#EF553B\",\"#00cc96\",\"#ab63fa\",\"#FFA15A\",\"#19d3f3\",\"#FF6692\",\"#B6E880\",\"#FF97FF\",\"#FECB52\"],\"font\":{\"color\":\"#2a3f5f\"},\"hovermode\":\"closest\",\"hoverlabel\":{\"align\":\"left\"},\"paper_bgcolor\":\"white\",\"plot_bgcolor\":\"#E5ECF6\",\"polar\":{\"bgcolor\":\"#E5ECF6\",\"angularaxis\":{\"gridcolor\":\"white\",\"linecolor\":\"white\",\"ticks\":\"\"},\"radialaxis\":{\"gridcolor\":\"white\",\"linecolor\":\"white\",\"ticks\":\"\"}},\"ternary\":{\"bgcolor\":\"#E5ECF6\",\"aaxis\":{\"gridcolor\":\"white\",\"linecolor\":\"white\",\"ticks\":\"\"},\"baxis\":{\"gridcolor\":\"white\",\"linecolor\":\"white\",\"ticks\":\"\"},\"caxis\":{\"gridcolor\":\"white\",\"linecolor\":\"white\",\"ticks\":\"\"}},\"coloraxis\":{\"colorbar\":{\"outlinewidth\":0,\"ticks\":\"\"}},\"colorscale\":{\"sequential\":[[0.0,\"#0d0887\"],[0.1111111111111111,\"#46039f\"],[0.2222222222222222,\"#7201a8\"],[0.3333333333333333,\"#9c179e\"],[0.4444444444444444,\"#bd3786\"],[0.5555555555555556,\"#d8576b\"],[0.6666666666666666,\"#ed7953\"],[0.7777777777777778,\"#fb9f3a\"],[0.8888888888888888,\"#fdca26\"],[1.0,\"#f0f921\"]],\"sequentialminus\":[[0.0,\"#0d0887\"],[0.1111111111111111,\"#46039f\"],[0.2222222222222222,\"#7201a8\"],[0.3333333333333333,\"#9c179e\"],[0.4444444444444444,\"#bd3786\"],[0.5555555555555556,\"#d8576b\"],[0.6666666666666666,\"#ed7953\"],[0.7777777777777778,\"#fb9f3a\"],[0.8888888888888888,\"#fdca26\"],[1.0,\"#f0f921\"]],\"diverging\":[[0,\"#8e0152\"],[0.1,\"#c51b7d\"],[0.2,\"#de77ae\"],[0.3,\"#f1b6da\"],[0.4,\"#fde0ef\"],[0.5,\"#f7f7f7\"],[0.6,\"#e6f5d0\"],[0.7,\"#b8e186\"],[0.8,\"#7fbc41\"],[0.9,\"#4d9221\"],[1,\"#276419\"]]},\"xaxis\":{\"gridcolor\":\"white\",\"linecolor\":\"white\",\"ticks\":\"\",\"title\":{\"standoff\":15},\"zerolinecolor\":\"white\",\"automargin\":true,\"zerolinewidth\":2},\"yaxis\":{\"gridcolor\":\"white\",\"linecolor\":\"white\",\"ticks\":\"\",\"title\":{\"standoff\":15},\"zerolinecolor\":\"white\",\"automargin\":true,\"zerolinewidth\":2},\"scene\":{\"xaxis\":{\"backgroundcolor\":\"#E5ECF6\",\"gridcolor\":\"white\",\"linecolor\":\"white\",\"showbackground\":true,\"ticks\":\"\",\"zerolinecolor\":\"white\",\"gridwidth\":2},\"yaxis\":{\"backgroundcolor\":\"#E5ECF6\",\"gridcolor\":\"white\",\"linecolor\":\"white\",\"showbackground\":true,\"ticks\":\"\",\"zerolinecolor\":\"white\",\"gridwidth\":2},\"zaxis\":{\"backgroundcolor\":\"#E5ECF6\",\"gridcolor\":\"white\",\"linecolor\":\"white\",\"showbackground\":true,\"ticks\":\"\",\"zerolinecolor\":\"white\",\"gridwidth\":2}},\"shapedefaults\":{\"line\":{\"color\":\"#2a3f5f\"}},\"annotationdefaults\":{\"arrowcolor\":\"#2a3f5f\",\"arrowhead\":0,\"arrowwidth\":1},\"geo\":{\"bgcolor\":\"white\",\"landcolor\":\"#E5ECF6\",\"subunitcolor\":\"white\",\"showland\":true,\"showlakes\":true,\"lakecolor\":\"white\"},\"title\":{\"x\":0.05},\"mapbox\":{\"style\":\"light\"}}},\"xaxis\":{\"anchor\":\"y\",\"domain\":[0.0,1.0],\"title\":{\"text\":\"Month\"}},\"yaxis\":{\"anchor\":\"x\",\"domain\":[0.0,1.0],\"title\":{\"text\":\"AMOUNT\"}},\"legend\":{\"title\":{\"text\":\"Category\"},\"tracegroupgap\":0},\"title\":{\"text\":\"Transactions by Id Holder 25\"},\"boxmode\":\"group\"},                        {\"responsive\": true}                    ).then(function(){\n",
       "                            \n",
       "var gd = document.getElementById('d75781dd-39ba-4313-a8e3-26bd898a6960');\n",
       "var x = new MutationObserver(function (mutations, observer) {{\n",
       "        var display = window.getComputedStyle(gd).display;\n",
       "        if (!display || display === 'none') {{\n",
       "            console.log([gd, 'removed!']);\n",
       "            Plotly.purge(gd);\n",
       "            observer.disconnect();\n",
       "        }}\n",
       "}});\n",
       "\n",
       "// Listen for the removal of the full notebook cells\n",
       "var notebookContainer = gd.closest('#notebook-container');\n",
       "if (notebookContainer) {{\n",
       "    x.observe(notebookContainer, {childList: true});\n",
       "}}\n",
       "\n",
       "// Listen for the clearing of the current output cell\n",
       "var outputEl = gd.closest('.output');\n",
       "if (outputEl) {{\n",
       "    x.observe(outputEl, {childList: true});\n",
       "}}\n",
       "\n",
       "                        })                };                });            </script>        </div>"
      ]
     },
     "metadata": {},
     "output_type": "display_data"
    }
   ],
   "source": [
    "# creating the six box plots using plotly express\n",
    "px.box(transaction_df, y='AMOUNT', hover_data=['Category','Card'],x='Month', color='Category', title='Transactions by Id Holder 25')\n"
   ]
  },
  {
   "cell_type": "markdown",
   "id": "e39b5e21",
   "metadata": {},
   "source": [
    "Conclusions for Question 2\n",
    "There seems to be fraudulent transactions pertaining to Restaurant & Food Truck category where Food Truck is ranging from \n",
    "1046"
   ]
  }
 ],
 "metadata": {
  "kernelspec": {
   "display_name": "Python 3",
   "language": "python",
   "name": "python3"
  },
  "language_info": {
   "codemirror_mode": {
    "name": "ipython",
    "version": 3
   },
   "file_extension": ".py",
   "mimetype": "text/x-python",
   "name": "python",
   "nbconvert_exporter": "python",
   "pygments_lexer": "ipython3",
   "version": "3.8.8"
  }
 },
 "nbformat": 4,
 "nbformat_minor": 5
}
